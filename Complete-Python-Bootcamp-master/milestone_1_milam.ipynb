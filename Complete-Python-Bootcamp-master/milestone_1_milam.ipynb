{
 "cells": [
  {
   "cell_type": "code",
   "execution_count": 1,
   "metadata": {
    "collapsed": true,
    "slideshow": {
     "slide_type": "slide"
    }
   },
   "outputs": [],
   "source": [
    "# Python A-Z Milestone Project 1\n",
    "# Tic - Tac - Toe"
   ]
  },
  {
   "cell_type": "code",
   "execution_count": 2,
   "metadata": {
    "collapsed": true,
    "slideshow": {
     "slide_type": "slide"
    }
   },
   "outputs": [],
   "source": [
    "# get a new board\n",
    "def get_new_board():\n",
    "    return [['-']*3 for x in xrange(3)]"
   ]
  },
  {
   "cell_type": "code",
   "execution_count": 3,
   "metadata": {
    "collapsed": true,
    "slideshow": {
     "slide_type": "slide"
    }
   },
   "outputs": [],
   "source": [
    "# print the board\n",
    "def print_board():\n",
    "    print\n",
    "    for row in board:\n",
    "        # print 'board index:', idx\n",
    "        print row[0]+' '+row[1]+' '+row[2]\n",
    "\n",
    "    print"
   ]
  },
  {
   "cell_type": "code",
   "execution_count": 4,
   "metadata": {
    "collapsed": true,
    "slideshow": {
     "slide_type": "slide"
    }
   },
   "outputs": [],
   "source": [
    "# get player input\n",
    "def get_marker_pos():\n",
    "    print 'Place your marker:'\n",
    "    return tuple(raw_input())"
   ]
  },
  {
   "cell_type": "code",
   "execution_count": 5,
   "metadata": {
    "collapsed": true,
    "slideshow": {
     "slide_type": "slide"
    }
   },
   "outputs": [],
   "source": [
    "# place markers on board\n",
    "def place_marker(pos, player_one):\n",
    "    x = int(pos[0])\n",
    "    y = int(pos[1])\n",
    "\n",
    "    if player_one:\n",
    "        board[x][y] = 'X'\n",
    "    else:\n",
    "        board[x][y] = 'O'"
   ]
  },
  {
   "cell_type": "code",
   "execution_count": 6,
   "metadata": {
    "collapsed": true,
    "slideshow": {
     "slide_type": "slide"
    }
   },
   "outputs": [],
   "source": [
    "# get the winner\n",
    "def winner(player):\n",
    "    for num in xrange(3):\n",
    "        if all(p == player for p in get_row(num)):\n",
    "            return True\n",
    "        elif all(p == player for p in get_col(num)):\n",
    "            return True\n",
    "        elif num < 2:\n",
    "            if all(p == player for p in get_diag()[num]):\n",
    "                return True"
   ]
  },
  {
   "cell_type": "code",
   "execution_count": 7,
   "metadata": {
    "collapsed": true,
    "slideshow": {
     "slide_type": "slide"
    }
   },
   "outputs": [],
   "source": [
    "# did X win\n",
    "def x_wins():\n",
    "    for num in xrange(3):\n",
    "        if all(p == 'X' for p in get_row(num)):\n",
    "            return True\n",
    "        elif all(p == 'X' for p in get_col(num)):\n",
    "            return True\n",
    "        elif num < 2:\n",
    "            if all(p == 'X' for p in get_diag()[num]):\n",
    "                return True"
   ]
  },
  {
   "cell_type": "code",
   "execution_count": 8,
   "metadata": {
    "collapsed": true,
    "slideshow": {
     "slide_type": "slide"
    }
   },
   "outputs": [],
   "source": [
    "# did O win\n",
    "def o_wins():\n",
    "    for num in xrange(3):\n",
    "        if all(p == 'O' for p in get_row(num)):\n",
    "            return True\n",
    "        elif all(p == 'O' for p in get_col(num)):\n",
    "            return True\n",
    "        elif num < 2:\n",
    "            if all(p == 'O' for p in get_diag()[num]):\n",
    "                return True"
   ]
  },
  {
   "cell_type": "code",
   "execution_count": 9,
   "metadata": {
    "collapsed": true,
    "slideshow": {
     "slide_type": "slide"
    }
   },
   "outputs": [],
   "source": [
    "# new version of check_state\n",
    "def check_state_v2():\n",
    "    tie_msg = \"It's a tie! gg\"\n",
    "    x_wins_msg = 'X wins!'\n",
    "    o_wins_msg = 'O wins!'\n",
    "\n",
    "    # check for tie\n",
    "    if all('-' not in p for p in board):\n",
    "        print tie_msg\n",
    "        return True\n",
    "    # check x win\n",
    "    elif winner('X'):\n",
    "        print x_wins_msg\n",
    "        return True\n",
    "    # check o win\n",
    "    elif winner('O'):\n",
    "        print o_wins_msg\n",
    "        return True"
   ]
  },
  {
   "cell_type": "code",
   "execution_count": 10,
   "metadata": {
    "collapsed": true,
    "slideshow": {
     "slide_type": "slide"
    }
   },
   "outputs": [],
   "source": [
    "# check the game state\n",
    "def check_state():\n",
    "    tie_msg = \"It's a tie! gg\"\n",
    "    x_wins_msg = 'X wins!'\n",
    "    o_wins_msg = 'O wins!'\n",
    "    # check tie\n",
    "    if all('-' not in p for p in board):\n",
    "        print tie_msg\n",
    "        return True\n",
    "    # check horizontal win\n",
    "    elif all(p == 'X' for p in get_row(0)):\n",
    "        print x_wins_msg\n",
    "        return True\n",
    "    elif all(p == 'X' for p in get_row(1)):\n",
    "        print x_wins_msg\n",
    "        return True\n",
    "    elif all(p == 'X' for p in get_row(2)):\n",
    "        print x_wins_msg\n",
    "        return True\n",
    "    elif all(p == 'O' for p in get_row(0)):\n",
    "        print o_wins_msg\n",
    "        return True\n",
    "    elif all(p == 'O' for p in get_row(1)):\n",
    "        print o_wins_msg\n",
    "        return True\n",
    "    elif all(p == 'O' for p in get_row(2)):\n",
    "        print o_wins_msg\n",
    "        return True\n",
    "    # check vertical win\n",
    "    elif all(p == 'X' for p in get_col(0)):\n",
    "        print x_wins_msg\n",
    "        return True\n",
    "    elif all(p == 'X' for p in get_col(1)):\n",
    "        print x_wins_msg\n",
    "        return True\n",
    "    elif all(p == 'X' for p in get_col(2)):\n",
    "        print x_wins_msg\n",
    "        return True\n",
    "    elif all(p == 'O' for p in get_col(0)):\n",
    "        print o_wins_msg\n",
    "        return True\n",
    "    elif all(p == 'O' for p in get_col(1)):\n",
    "        print o_wins_msg\n",
    "        return True\n",
    "    elif all(p == 'O' for p in get_col(2)):\n",
    "        print o_wins_msg\n",
    "        return True\n",
    "    # diagonal check\n",
    "    elif all(p == 'X' for p in get_diag()[0]):\n",
    "        print x_wins_msg\n",
    "        return True\n",
    "    elif all(p == 'X' for p in get_diag()[1]):\n",
    "        print x_wins_msg\n",
    "        return True\n",
    "    elif all(p == 'O' for p in get_diag()[0]):\n",
    "        print o_wins_msg\n",
    "        return True\n",
    "    elif all(p == 'O' for p in get_diag()[1]):\n",
    "        print o_wins_msg\n",
    "        return True"
   ]
  },
  {
   "cell_type": "code",
   "execution_count": 11,
   "metadata": {
    "collapsed": true,
    "slideshow": {
     "slide_type": "slide"
    }
   },
   "outputs": [],
   "source": [
    "# get a row from the board\n",
    "def get_row(row_num):\n",
    "    return [board[x][row_num] for x in xrange(3)]\n",
    "\n",
    "\n",
    "# get a column from the board\n",
    "def get_col(col_num):\n",
    "    # print 'get col:', [board[x][col_num] for x in xrange(3)]\n",
    "    return [board[x][col_num] for x in xrange(3)]\n",
    "\n",
    "\n",
    "# get diagonals\n",
    "def get_diag():\n",
    "    dr = [board[x][x] for x in xrange(3)]\n",
    "    ur = [board[x][2-x] for x in xrange(2, -1, -1)]\n",
    "    return (ur, dr)"
   ]
  },
  {
   "cell_type": "code",
   "execution_count": 12,
   "metadata": {
    "collapsed": true,
    "slideshow": {
     "slide_type": "slide"
    }
   },
   "outputs": [],
   "source": [
    "# main game routine\n",
    "def play_game():\n",
    "    print_board()\n",
    "\n",
    "    # player one?\n",
    "    is_player_one = True\n",
    "    # is the game over\n",
    "    game_over = False\n",
    "    while not game_over:\n",
    "        place_marker(get_marker_pos(), is_player_one)\n",
    "        print_board()\n",
    "        if is_player_one:\n",
    "            print \"O's turn\"\n",
    "            is_player_one = False\n",
    "        else:\n",
    "            print \"X's turn\"\n",
    "            is_player_one = True\n",
    "\n",
    "        game_over = check_state_v2()"
   ]
  },
  {
   "cell_type": "code",
   "execution_count": 13,
   "metadata": {
    "collapsed": false,
    "slideshow": {
     "slide_type": "slide"
    }
   },
   "outputs": [
    {
     "name": "stdout",
     "output_type": "stream",
     "text": [
      "\n",
      "- - -\n",
      "- - -\n",
      "- - -\n",
      "\n",
      "Place your marker:\n",
      "00\n",
      "\n",
      "X - -\n",
      "- - -\n",
      "- - -\n",
      "\n",
      "O's turn\n",
      "Place your marker:\n",
      "01\n",
      "\n",
      "X O -\n",
      "- - -\n",
      "- - -\n",
      "\n",
      "X's turn\n",
      "Place your marker:\n",
      "11\n",
      "\n",
      "X O -\n",
      "- X -\n",
      "- - -\n",
      "\n",
      "O's turn\n",
      "Place your marker:\n",
      "22\n",
      "\n",
      "X O -\n",
      "- X -\n",
      "- - O\n",
      "\n",
      "X's turn\n",
      "Place your marker:\n",
      "20\n",
      "\n",
      "X O -\n",
      "- X -\n",
      "X - O\n",
      "\n",
      "O's turn\n",
      "Place your marker:\n",
      "12\n",
      "\n",
      "X O -\n",
      "- X O\n",
      "X - O\n",
      "\n",
      "X's turn\n",
      "Place your marker:\n",
      "02\n",
      "\n",
      "X O X\n",
      "- X O\n",
      "X - O\n",
      "\n",
      "O's turn\n",
      "X wins!\n",
      "Play again? (y/n)\n",
      "y\n",
      "\n",
      "- - -\n",
      "- - -\n",
      "- - -\n",
      "\n",
      "Place your marker:\n",
      "11\n",
      "\n",
      "- - -\n",
      "- X -\n",
      "- - -\n",
      "\n",
      "O's turn\n",
      "Place your marker:\n",
      "02\n",
      "\n",
      "- - O\n",
      "- X -\n",
      "- - -\n",
      "\n",
      "X's turn\n",
      "Place your marker:\n",
      "10\n",
      "\n",
      "- - O\n",
      "X X -\n",
      "- - -\n",
      "\n",
      "O's turn\n",
      "Place your marker:\n",
      "12\n",
      "\n",
      "- - O\n",
      "X X O\n",
      "- - -\n",
      "\n",
      "X's turn\n",
      "Place your marker:\n",
      "20\n",
      "\n",
      "- - O\n",
      "X X O\n",
      "X - -\n",
      "\n",
      "O's turn\n",
      "Place your marker:\n",
      "22\n",
      "\n",
      "- - O\n",
      "X X O\n",
      "X - O\n",
      "\n",
      "X's turn\n",
      "O wins!\n",
      "Play again? (y/n)\n",
      "n\n"
     ]
    }
   ],
   "source": [
    "# play game\n",
    "board = get_new_board()\n",
    "play_again = True\n",
    "while play_again:\n",
    "    play_game()\n",
    "    print 'Play again? (y/n)'\n",
    "    choice = raw_input()\n",
    "    if choice == 'y':\n",
    "        board = get_new_board()\n",
    "    elif choice == 'n':\n",
    "        play_again = False\n",
    "    else:\n",
    "        pass"
   ]
  }
 ],
 "metadata": {
  "kernelspec": {
   "display_name": "Python [Root]",
   "language": "python",
   "name": "Python [Root]"
  },
  "language_info": {
   "codemirror_mode": {
    "name": "ipython",
    "version": 2
   },
   "file_extension": ".py",
   "mimetype": "text/x-python",
   "name": "python",
   "nbconvert_exporter": "python",
   "pygments_lexer": "ipython2",
   "version": "2.7.12"
  }
 },
 "nbformat": 4,
 "nbformat_minor": 0
}
