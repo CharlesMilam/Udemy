{
  "cells": [
    {
      "cell_type": "markdown",
      "source": [
        "# OBJECTS"
      ],
      "metadata": {}
    },
    {
      "cell_type": "markdown",
      "source": [
        "## Sample Class"
      ],
      "metadata": {}
    },
    {
      "cell_type": "code",
      "source": [
        "class Sample(object):\n",
        "    pass"
      ],
      "outputs": [],
      "execution_count": 3,
      "metadata": {
        "collapsed": false,
        "outputHidden": false,
        "inputHidden": false
      }
    },
    {
      "cell_type": "code",
      "source": [
        "x = Sample()"
      ],
      "outputs": [],
      "execution_count": 4,
      "metadata": {}
    },
    {
      "cell_type": "code",
      "source": [
        "x"
      ],
      "outputs": [
        {
          "output_type": "execute_result",
          "execution_count": 5,
          "data": {
            "text/plain": [
              "<__main__.Sample at 0x7f4b5eb6f290>"
            ]
          },
          "metadata": {}
        }
      ],
      "execution_count": 5,
      "metadata": {}
    },
    {
      "cell_type": "markdown",
      "source": [
        "## Dog Class"
      ],
      "metadata": {}
    },
    {
      "cell_type": "code",
      "source": [
        "class Dog(object):\n",
        "    # class object attribute\n",
        "    species = 'C. lupus'\n",
        "    genus = 'Canis'\n",
        "    \n",
        "    def __init__(self, breed, name, color, voice='bark'):\n",
        "        self.breed = breed\n",
        "        self.name = name\n",
        "        self.color = color\n",
        "        self.voice = voice"
      ],
      "outputs": [],
      "execution_count": 28,
      "metadata": {}
    },
    {
      "cell_type": "code",
      "source": [
        "rover = Dog(breed='Mutt', name='Rover', color='red', voice='woof')"
      ],
      "outputs": [],
      "execution_count": 32,
      "metadata": {
        "collapsed": false,
        "outputHidden": false,
        "inputHidden": false
      }
    },
    {
      "cell_type": "code",
      "source": [
        "rover"
      ],
      "outputs": [
        {
          "output_type": "execute_result",
          "execution_count": 33,
          "data": {
            "text/plain": [
              "<__main__.Dog at 0x7f4b5c133c90>"
            ]
          },
          "metadata": {}
        }
      ],
      "execution_count": 33,
      "metadata": {
        "collapsed": false,
        "outputHidden": false,
        "inputHidden": false
      }
    },
    {
      "cell_type": "code",
      "source": [
        "print 'There is a {} dog named {}.\\nWho is a {}.'.format(rover.color, rover.name, rover.breed)\n",
        "print 'And when he barks, he says \"{}\"!'.format(rover.voice)\n",
        "print 'His genus is {}, and his species {}.'.format(rover.genus, rover.species)"
      ],
      "outputs": [
        {
          "output_type": "stream",
          "name": "stdout",
          "text": [
            "There is a red dog named Rover.\n",
            "Who is a Mutt.\n",
            "And when he barks, he says \"woof\"!\n",
            "His genus is Canis, and his species C. lupus.\n"
          ]
        }
      ],
      "execution_count": 34,
      "metadata": {
        "collapsed": false,
        "outputHidden": false,
        "inputHidden": false
      }
    },
    {
      "cell_type": "markdown",
      "source": [
        "## Circle Class"
      ],
      "metadata": {}
    },
    {
      "cell_type": "code",
      "source": [
        "class Circle(object):\n",
        "    # object attributes\n",
        "    pi = 3.14\n",
        "    \n",
        "    def __init__(self, radius=1):\n",
        "        self.radius = radius"
      ],
      "outputs": [],
      "execution_count": 38,
      "metadata": {
        "collapsed": false,
        "outputHidden": false,
        "inputHidden": false
      }
    },
    {
      "cell_type": "code",
      "source": [
        "c = Circle()"
      ],
      "outputs": [],
      "execution_count": 39,
      "metadata": {
        "collapsed": false,
        "outputHidden": false,
        "inputHidden": false
      }
    },
    {
      "cell_type": "code",
      "source": [
        "print 'PI = {}, radius = {}'.format(c.pi, c.radius)"
      ],
      "outputs": [],
      "execution_count": null,
      "metadata": {
        "collapsed": false,
        "outputHidden": false,
        "inputHidden": false
      }
    }
  ],
  "metadata": {
    "kernelspec": {
      "name": "python2",
      "language": "python",
      "display_name": "Python 2"
    },
    "kernel_info": {
      "name": "python2"
    },
    "language_info": {
      "mimetype": "text/x-python",
      "nbconvert_exporter": "python",
      "name": "python",
      "pygments_lexer": "ipython2",
      "version": "2.7.12",
      "file_extension": ".py",
      "codemirror_mode": {
        "version": 2,
        "name": "ipython"
      }
    }
  },
  "nbformat": 4,
  "nbformat_minor": 4
}