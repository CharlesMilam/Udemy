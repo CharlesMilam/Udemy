{
  "cells": [
    {
      "cell_type": "markdown",
      "source": [
        "# Raw Python - Lambda Functions"
      ],
      "metadata": {}
    },
    {
      "cell_type": "code",
      "source": [
        "x = range(10)"
      ],
      "outputs": [],
      "execution_count": 1,
      "metadata": {
        "collapsed": false
      }
    },
    {
      "cell_type": "code",
      "source": [
        "x"
      ],
      "outputs": [
        {
          "output_type": "execute_result",
          "execution_count": 2,
          "data": {
            "text/plain": [
              "range(0, 10)"
            ]
          },
          "metadata": {}
        }
      ],
      "execution_count": 2,
      "metadata": {
        "collapsed": false
      }
    },
    {
      "cell_type": "code",
      "source": [
        "[item**2 for item in x]"
      ],
      "outputs": [
        {
          "output_type": "execute_result",
          "execution_count": 3,
          "data": {
            "text/plain": [
              "[0, 1, 4, 9, 16, 25, 36, 49, 64, 81]"
            ]
          },
          "metadata": {}
        }
      ],
      "execution_count": 3,
      "metadata": {
        "collapsed": false
      }
    },
    {
      "cell_type": "code",
      "source": [
        "def square(num):\n",
        "    return num**2"
      ],
      "outputs": [],
      "execution_count": 4,
      "metadata": {
        "collapsed": false
      }
    },
    {
      "cell_type": "code",
      "source": [
        "list(map(square, x))"
      ],
      "outputs": [
        {
          "output_type": "execute_result",
          "execution_count": 9,
          "data": {
            "text/plain": [
              "[0, 1, 4, 9, 16, 25, 36, 49, 64, 81]"
            ]
          },
          "metadata": {}
        }
      ],
      "execution_count": 9,
      "metadata": {
        "collapsed": false
      }
    },
    {
      "cell_type": "code",
      "source": [
        "square_lamb = lambda num: num**2"
      ],
      "outputs": [],
      "execution_count": 10,
      "metadata": {
        "collapsed": false
      }
    },
    {
      "cell_type": "code",
      "source": [
        "list(map(square_lamb, x))"
      ],
      "outputs": [
        {
          "output_type": "execute_result",
          "execution_count": 11,
          "data": {
            "text/plain": [
              "[0, 1, 4, 9, 16, 25, 36, 49, 64, 81]"
            ]
          },
          "metadata": {}
        }
      ],
      "execution_count": 11,
      "metadata": {
        "collapsed": false
      }
    },
    {
      "cell_type": "markdown",
      "source": [
        "Lambda functions are just anonymous functions and don't need to be created as official functions prior to being used. This makes them useful because they can really help with code readability (if used appropriately). Their true power comes from their expressiveness when performing inline operations.\n",
        "\nI'm sure that sounds abstract at this point but I figured it would lay good ground work for our example"
      ],
      "metadata": {}
    },
    {
      "cell_type": "code",
      "source": [
        "list(map(lambda num: num**2, x))"
      ],
      "outputs": [
        {
          "output_type": "execute_result",
          "execution_count": 12,
          "data": {
            "text/plain": [
              "[0, 1, 4, 9, 16, 25, 36, 49, 64, 81]"
            ]
          },
          "metadata": {}
        }
      ],
      "execution_count": 12,
      "metadata": {
        "collapsed": false
      }
    },
    {
      "cell_type": "markdown",
      "source": [
        "square every number that is divisible by 2 from 1 to 20"
      ],
      "metadata": {}
    },
    {
      "cell_type": "code",
      "source": [
        "nums = range(1, 21)\n",
        "print nums\n",
        "map(lambda x: x**2 if x % 2 == 0 else x, nums)"
      ],
      "outputs": [
        {
          "output_type": "stream",
          "name": "stdout",
          "text": [
            "[1, 2, 3, 4, 5, 6, 7, 8, 9, 10, 11, 12, 13, 14, 15, 16, 17, 18, 19, 20]\n"
          ]
        },
        {
          "output_type": "execute_result",
          "execution_count": 11,
          "data": {
            "text/plain": [
              "[1,\n",
              " 4,\n",
              " 3,\n",
              " 16,\n",
              " 5,\n",
              " 36,\n",
              " 7,\n",
              " 64,\n",
              " 9,\n",
              " 100,\n",
              " 11,\n",
              " 144,\n",
              " 13,\n",
              " 196,\n",
              " 15,\n",
              " 256,\n",
              " 17,\n",
              " 324,\n",
              " 19,\n",
              " 400]"
            ]
          },
          "metadata": {}
        }
      ],
      "execution_count": 11,
      "metadata": {
        "collapsed": false,
        "outputHidden": false,
        "inputHidden": false
      }
    },
    {
      "cell_type": "code",
      "source": [
        "[item**2 for item in range(1,20) if item % 2 == 0]"
      ],
      "outputs": [
        {
          "output_type": "execute_result",
          "execution_count": 13,
          "data": {
            "text/plain": [
              "[4, 16, 36, 64, 100, 144, 196, 256, 324]"
            ]
          },
          "metadata": {}
        }
      ],
      "execution_count": 13,
      "metadata": {
        "collapsed": false
      }
    },
    {
      "cell_type": "markdown",
      "source": [
        "That’s a little abstract at this point...\n",
        "\n",
        "We'll get to those with map, filter, and reduce below \n",
        "\nNow obviously this is not appropriate for everything but I just want you to understand that lambda functions are just anonymous functions."
      ],
      "metadata": {}
    },
    {
      "cell_type": "code",
      "source": [
        "list(map(lambda z: z**2, filter(lambda z: z % 2 == 0, range(1,20))))"
      ],
      "outputs": [
        {
          "output_type": "execute_result",
          "execution_count": 15,
          "data": {
            "text/plain": [
              "[4, 16, 36, 64, 100, 144, 196, 256, 324]"
            ]
          },
          "metadata": {}
        }
      ],
      "execution_count": 15,
      "metadata": {
        "collapsed": false
      }
    },
    {
      "cell_type": "markdown",
      "source": [
        "Now that we covered these raw python basics. We can start moving on to some of the better things. However before we move onto pandas, it is worth introducing the ipython notebook. This is installed with the anaconda distribution and ipython is a very powerful tool. "
      ],
      "metadata": {}
    },
    {
      "cell_type": "code",
      "source": [],
      "outputs": [],
      "execution_count": null,
      "metadata": {
        "collapsed": false
      }
    }
  ],
  "metadata": {
    "kernelspec": {
      "name": "python2",
      "language": "python",
      "display_name": "Python 2"
    },
    "language_info": {
      "mimetype": "text/x-python",
      "nbconvert_exporter": "python",
      "name": "python",
      "pygments_lexer": "ipython2",
      "version": "2.7.12",
      "file_extension": ".py",
      "codemirror_mode": {
        "version": 2,
        "name": "ipython"
      }
    },
    "kernel_info": {
      "name": "python2"
    }
  },
  "nbformat": 4,
  "nbformat_minor": 0
}