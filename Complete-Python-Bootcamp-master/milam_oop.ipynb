{
  "cells": [
    {
      "cell_type": "markdown",
      "source": [
        "# OBJECTS"
      ],
      "metadata": {}
    },
    {
      "cell_type": "markdown",
      "source": [
        "## Sample Class"
      ],
      "metadata": {}
    },
    {
      "cell_type": "code",
      "source": [
        "class Sample(object):\n",
        "    pass"
      ],
      "outputs": [],
      "execution_count": 3,
      "metadata": {
        "collapsed": false,
        "outputHidden": false,
        "inputHidden": false
      }
    },
    {
      "cell_type": "code",
      "source": [
        "x = Sample()"
      ],
      "outputs": [],
      "execution_count": 4,
      "metadata": {}
    },
    {
      "cell_type": "code",
      "source": [
        "x"
      ],
      "outputs": [
        {
          "output_type": "execute_result",
          "execution_count": 5,
          "data": {
            "text/plain": [
              "<__main__.Sample at 0x7f4b5eb6f290>"
            ]
          },
          "metadata": {}
        }
      ],
      "execution_count": 5,
      "metadata": {}
    },
    {
      "cell_type": "markdown",
      "source": [
        "## Dog Class"
      ],
      "metadata": {}
    },
    {
      "cell_type": "code",
      "source": [
        "class Dog(object):\n",
        "    # class object attribute\n",
        "    species = 'C. lupus'\n",
        "    genus = 'Canis'\n",
        "    \n",
        "    def __init__(self, breed, name, color, voice='bark'):\n",
        "        self.breed = breed\n",
        "        self.name = name\n",
        "        self.color = color\n",
        "        self.voice = voice"
      ],
      "outputs": [],
      "execution_count": 28,
      "metadata": {}
    },
    {
      "cell_type": "code",
      "source": [
        "rover = Dog(breed='Mutt', name='Rover', color='red', voice='woof')"
      ],
      "outputs": [],
      "execution_count": 32,
      "metadata": {
        "collapsed": false,
        "outputHidden": false,
        "inputHidden": false
      }
    },
    {
      "cell_type": "code",
      "source": [
        "rover"
      ],
      "outputs": [
        {
          "output_type": "execute_result",
          "execution_count": 33,
          "data": {
            "text/plain": [
              "<__main__.Dog at 0x7f4b5c133c90>"
            ]
          },
          "metadata": {}
        }
      ],
      "execution_count": 33,
      "metadata": {
        "collapsed": false,
        "outputHidden": false,
        "inputHidden": false
      }
    },
    {
      "cell_type": "code",
      "source": [
        "print 'There is a {} dog named {}.\\nWho is a {}.'.format(rover.color, rover.name, rover.breed)\n",
        "print 'And when he barks, he says \"{}\"!'.format(rover.voice)\n",
        "print 'His genus is {}, and his species {}.'.format(rover.genus, rover.species)"
      ],
      "outputs": [
        {
          "output_type": "stream",
          "name": "stdout",
          "text": [
            "There is a red dog named Rover.\n",
            "Who is a Mutt.\n",
            "And when he barks, he says \"woof\"!\n",
            "His genus is Canis, and his species C. lupus.\n"
          ]
        }
      ],
      "execution_count": 34,
      "metadata": {
        "collapsed": false,
        "outputHidden": false,
        "inputHidden": false
      }
    },
    {
      "cell_type": "markdown",
      "source": [
        "## Circle Class"
      ],
      "metadata": {}
    },
    {
      "cell_type": "code",
      "source": [
        "class Circle(object):\n",
        "    # object attributes\n",
        "    pi = 3.14\n",
        "    \n",
        "    def __init__(self, radius=1, perimeter=0):\n",
        "        self.radius = radius\n",
        "        self.perim = perimeter\n",
        "        \n",
        "    def area(self):\n",
        "        return self.radius**2 * Circle.pi \n",
        "    \n",
        "    def set_radius(self, new_radius):\n",
        "        \"\"\"\n",
        "        sets the current radius to the value provided\n",
        "        takes either an interger or float\n",
        "        default value is 1\n",
        "        \"\"\"\n",
        "        self.radius = new_radius\n",
        "        \n",
        "    def get_radius(self):\n",
        "        return self.radius\n",
        "    \n",
        "    def perimeter(self):\n",
        "        return 2 * Circle.pi * self.radius"
      ],
      "outputs": [],
      "execution_count": 75,
      "metadata": {
        "collapsed": false,
        "outputHidden": false,
        "inputHidden": false
      }
    },
    {
      "cell_type": "code",
      "source": [
        "c = Circle(radius=33)"
      ],
      "outputs": [],
      "execution_count": 76,
      "metadata": {
        "collapsed": false,
        "outputHidden": false,
        "inputHidden": false
      }
    },
    {
      "cell_type": "code",
      "source": [
        "print 'PI = {}, radius = {}'.format(c.pi, c.radius)\n",
        "print 'area = {}, perimeter = {}'.format(c.area(), c.perimeter())"
      ],
      "outputs": [
        {
          "output_type": "stream",
          "name": "stdout",
          "text": [
            "PI = 3.14, radius = 33\n",
            "area = 3419.46, perimeter = 207.24\n"
          ]
        }
      ],
      "execution_count": 77,
      "metadata": {
        "collapsed": false,
        "outputHidden": false,
        "inputHidden": false
      }
    },
    {
      "cell_type": "code",
      "source": [
        "c.set_radius(10)\n",
        "print 'the new radius is {}'.format(c.get_radius())\n",
        "print 'new area = {}'.format(c.area())"
      ],
      "outputs": [
        {
          "output_type": "stream",
          "name": "stdout",
          "text": [
            "the new radius is 10\n",
            "new area = 314.0\n"
          ]
        }
      ],
      "execution_count": 78,
      "metadata": {
        "collapsed": false,
        "outputHidden": false,
        "inputHidden": false
      }
    },
    {
      "cell_type": "markdown",
      "source": [
        "# Inheritance"
      ],
      "metadata": {}
    },
    {
      "cell_type": "code",
      "source": [
        "class Animal(object):\n",
        "    \n",
        "    def __init__(self):\n",
        "        print 'Animal created'\n",
        "        \n",
        "    def who_am_i(self):\n",
        "        print 'Animal'\n",
        "        \n",
        "    def eat(self):\n",
        "        print 'Eating'"
      ],
      "outputs": [],
      "execution_count": 82,
      "metadata": {
        "collapsed": false,
        "outputHidden": false,
        "inputHidden": false
      }
    },
    {
      "cell_type": "code",
      "source": [
        "class Dog(Animal):\n",
        "    def __init__(self):\n",
        "        Animal.__init__(self)\n",
        "        print 'Dog created'\n",
        "        \n",
        "    def who_am_i(self):\n",
        "        print 'Dog'\n",
        "        \n",
        "    def bark(self):\n",
        "        print 'Woof!'"
      ],
      "outputs": [],
      "execution_count": 85,
      "metadata": {
        "collapsed": false,
        "outputHidden": false,
        "inputHidden": false
      }
    },
    {
      "cell_type": "code",
      "source": [
        "dog = Dog()"
      ],
      "outputs": [
        {
          "output_type": "stream",
          "name": "stdout",
          "text": [
            "Animal created\n",
            "Dog created\n"
          ]
        }
      ],
      "execution_count": 86,
      "metadata": {
        "collapsed": false,
        "outputHidden": false,
        "inputHidden": false
      }
    },
    {
      "cell_type": "code",
      "source": [
        "dog.who_am_i()"
      ],
      "outputs": [
        {
          "output_type": "stream",
          "name": "stdout",
          "text": [
            "Dog\n"
          ]
        }
      ],
      "execution_count": 87,
      "metadata": {
        "collapsed": false,
        "outputHidden": false,
        "inputHidden": false
      }
    },
    {
      "cell_type": "code",
      "source": [
        "dog.eat()"
      ],
      "outputs": [
        {
          "output_type": "stream",
          "name": "stdout",
          "text": [
            "Eating\n"
          ]
        }
      ],
      "execution_count": 88,
      "metadata": {
        "collapsed": false,
        "outputHidden": false,
        "inputHidden": false
      }
    },
    {
      "cell_type": "code",
      "source": [
        "dog.bark()"
      ],
      "outputs": [
        {
          "output_type": "stream",
          "name": "stdout",
          "text": [
            "Woof!\n"
          ]
        }
      ],
      "execution_count": 89,
      "metadata": {
        "collapsed": false,
        "outputHidden": false,
        "inputHidden": false
      }
    },
    {
      "cell_type": "markdown",
      "source": [
        "# Special Functions"
      ],
      "metadata": {}
    },
    {
      "cell_type": "code",
      "source": [
        "class Book(object):\n",
        "    \n",
        "    def __init__(self, title, author, pages):\n",
        "        self.title = title\n",
        "        self.author = author\n",
        "        self.pages = pages\n",
        "        \n",
        "    def __str__(self):\n",
        "        return 'Title: {}, Author: {}, pages: {}'.format(self.title, self.author, self.pages)\n",
        "    \n",
        "    def __len__(self):\n",
        "        return self.pages\n",
        "    \n",
        "    def __del__(self):\n",
        "        pass"
      ],
      "outputs": [],
      "execution_count": 106,
      "metadata": {
        "collapsed": false,
        "outputHidden": false,
        "inputHidden": false
      }
    },
    {
      "cell_type": "code",
      "source": [
        "book = Book('The Best Book', 'Chuck', 333)"
      ],
      "outputs": [],
      "execution_count": 107,
      "metadata": {
        "collapsed": false,
        "outputHidden": false,
        "inputHidden": false
      }
    },
    {
      "cell_type": "code",
      "source": [
        "print book\n",
        "len(book)"
      ],
      "outputs": [
        {
          "output_type": "stream",
          "name": "stdout",
          "text": [
            "Title: The Best Book, Author: Chuck, pages: 333\n"
          ]
        },
        {
          "output_type": "execute_result",
          "execution_count": 108,
          "data": {
            "text/plain": [
              "333"
            ]
          },
          "metadata": {}
        }
      ],
      "execution_count": 108,
      "metadata": {
        "collapsed": false,
        "outputHidden": false,
        "inputHidden": false
      }
    },
    {
      "cell_type": "code",
      "source": [
        "del book\n",
        "print book"
      ],
      "outputs": [
        {
          "output_type": "error",
          "ename": "NameError",
          "evalue": "name 'book' is not defined",
          "traceback": [
            "\u001b[1;31m\u001b[0m",
            "\u001b[1;31mNameError\u001b[0mTraceback (most recent call last)",
            "\u001b[1;32m<ipython-input-109-eb6d5b5029e9>\u001b[0m in \u001b[0;36m<module>\u001b[1;34m()\u001b[0m\n\u001b[0;32m      1\u001b[0m \u001b[1;32mdel\u001b[0m \u001b[0mbook\u001b[0m\u001b[1;33m\u001b[0m\u001b[0m\n\u001b[1;32m----> 2\u001b[1;33m \u001b[1;32mprint\u001b[0m \u001b[0mbook\u001b[0m\u001b[1;33m\u001b[0m\u001b[0m\n\u001b[0m",
            "\u001b[1;31mNameError\u001b[0m: name 'book' is not defined"
          ]
        }
      ],
      "execution_count": 109,
      "metadata": {
        "collapsed": false,
        "outputHidden": false,
        "inputHidden": false
      }
    },
    {
      "cell_type": "code",
      "source": [],
      "outputs": [],
      "execution_count": null,
      "metadata": {
        "collapsed": false,
        "outputHidden": false,
        "inputHidden": false
      }
    }
  ],
  "metadata": {
    "kernelspec": {
      "name": "python2",
      "language": "python",
      "display_name": "Python 2"
    },
    "kernel_info": {
      "name": "python2"
    },
    "language_info": {
      "mimetype": "text/x-python",
      "nbconvert_exporter": "python",
      "name": "python",
      "pygments_lexer": "ipython2",
      "version": "2.7.12",
      "file_extension": ".py",
      "codemirror_mode": {
        "version": 2,
        "name": "ipython"
      }
    }
  },
  "nbformat": 4,
  "nbformat_minor": 4
}