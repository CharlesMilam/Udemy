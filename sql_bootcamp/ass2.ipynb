{
  "cells": [
    {
      "cell_type": "markdown",
      "source": [
        "# SQL Bootcamp Assessment Test 2"
      ],
      "metadata": {}
    },
    {
      "cell_type": "code",
      "source": [
        "import numpy as np\n",
        "import pandas as pd\n",
        "import psycopg2"
      ],
      "outputs": [],
      "execution_count": 55,
      "metadata": {
        "collapsed": false,
        "outputHidden": false,
        "inputHidden": false
      }
    },
    {
      "cell_type": "code",
      "source": [
        "# make database connection\n",
        "conn_str = \"host='10.0.0.12' dbname='sqlboot_ass2' user='scruffy' password='D4dmiscreant#'\"\n",
        "conn = psycopg2.connect(conn_str)"
      ],
      "outputs": [],
      "execution_count": 56,
      "metadata": {}
    },
    {
      "cell_type": "markdown",
      "source": [
        "## Question 1\n",
        "How can you retrieve all the information from the cd.facilities table?\n"
      ],
      "metadata": {}
    },
    {
      "cell_type": "code",
      "source": [
        "q1_qry = \"\"\"\n",
        "    select *\n",
        "    from cd.facilities;\n",
        "\"\"\"\n",
        "q1_df = pd.read_sql(q1_qry, conn)\n",
        "q1_df"
      ],
      "outputs": [
        {
          "output_type": "execute_result",
          "execution_count": 57,
          "data": {
            "text/plain": [
              "   facid             name  membercost  guestcost  initialoutlay  \\\n",
              "0      0   Tennis Court 1         5.0       25.0        10000.0   \n",
              "1      1   Tennis Court 2         5.0       25.0         8000.0   \n",
              "2      2  Badminton Court         0.0       15.5         4000.0   \n",
              "3      3     Table Tennis         0.0        5.0          320.0   \n",
              "4      4   Massage Room 1        35.0       80.0         4000.0   \n",
              "5      5   Massage Room 2        35.0       80.0         4000.0   \n",
              "6      6     Squash Court         3.5       17.5         5000.0   \n",
              "7      7    Snooker Table         0.0        5.0          450.0   \n",
              "8      8       Pool Table         0.0        5.0          400.0   \n",
              "\n",
              "   monthlymaintenance  \n",
              "0               200.0  \n",
              "1               200.0  \n",
              "2                50.0  \n",
              "3                10.0  \n",
              "4              3000.0  \n",
              "5              3000.0  \n",
              "6                80.0  \n",
              "7                15.0  \n",
              "8                15.0  "
            ],
            "text/html": [
              "<div>\n",
              "<table border=\"1\" class=\"dataframe\">\n",
              "  <thead>\n",
              "    <tr style=\"text-align: right;\">\n",
              "      <th></th>\n",
              "      <th>facid</th>\n",
              "      <th>name</th>\n",
              "      <th>membercost</th>\n",
              "      <th>guestcost</th>\n",
              "      <th>initialoutlay</th>\n",
              "      <th>monthlymaintenance</th>\n",
              "    </tr>\n",
              "  </thead>\n",
              "  <tbody>\n",
              "    <tr>\n",
              "      <th>0</th>\n",
              "      <td>0</td>\n",
              "      <td>Tennis Court 1</td>\n",
              "      <td>5.0</td>\n",
              "      <td>25.0</td>\n",
              "      <td>10000.0</td>\n",
              "      <td>200.0</td>\n",
              "    </tr>\n",
              "    <tr>\n",
              "      <th>1</th>\n",
              "      <td>1</td>\n",
              "      <td>Tennis Court 2</td>\n",
              "      <td>5.0</td>\n",
              "      <td>25.0</td>\n",
              "      <td>8000.0</td>\n",
              "      <td>200.0</td>\n",
              "    </tr>\n",
              "    <tr>\n",
              "      <th>2</th>\n",
              "      <td>2</td>\n",
              "      <td>Badminton Court</td>\n",
              "      <td>0.0</td>\n",
              "      <td>15.5</td>\n",
              "      <td>4000.0</td>\n",
              "      <td>50.0</td>\n",
              "    </tr>\n",
              "    <tr>\n",
              "      <th>3</th>\n",
              "      <td>3</td>\n",
              "      <td>Table Tennis</td>\n",
              "      <td>0.0</td>\n",
              "      <td>5.0</td>\n",
              "      <td>320.0</td>\n",
              "      <td>10.0</td>\n",
              "    </tr>\n",
              "    <tr>\n",
              "      <th>4</th>\n",
              "      <td>4</td>\n",
              "      <td>Massage Room 1</td>\n",
              "      <td>35.0</td>\n",
              "      <td>80.0</td>\n",
              "      <td>4000.0</td>\n",
              "      <td>3000.0</td>\n",
              "    </tr>\n",
              "    <tr>\n",
              "      <th>5</th>\n",
              "      <td>5</td>\n",
              "      <td>Massage Room 2</td>\n",
              "      <td>35.0</td>\n",
              "      <td>80.0</td>\n",
              "      <td>4000.0</td>\n",
              "      <td>3000.0</td>\n",
              "    </tr>\n",
              "    <tr>\n",
              "      <th>6</th>\n",
              "      <td>6</td>\n",
              "      <td>Squash Court</td>\n",
              "      <td>3.5</td>\n",
              "      <td>17.5</td>\n",
              "      <td>5000.0</td>\n",
              "      <td>80.0</td>\n",
              "    </tr>\n",
              "    <tr>\n",
              "      <th>7</th>\n",
              "      <td>7</td>\n",
              "      <td>Snooker Table</td>\n",
              "      <td>0.0</td>\n",
              "      <td>5.0</td>\n",
              "      <td>450.0</td>\n",
              "      <td>15.0</td>\n",
              "    </tr>\n",
              "    <tr>\n",
              "      <th>8</th>\n",
              "      <td>8</td>\n",
              "      <td>Pool Table</td>\n",
              "      <td>0.0</td>\n",
              "      <td>5.0</td>\n",
              "      <td>400.0</td>\n",
              "      <td>15.0</td>\n",
              "    </tr>\n",
              "  </tbody>\n",
              "</table>\n",
              "</div>"
            ]
          },
          "metadata": {}
        }
      ],
      "execution_count": 57,
      "metadata": {
        "collapsed": false,
        "outputHidden": false,
        "inputHidden": false
      }
    },
    {
      "cell_type": "markdown",
      "source": [
        "## Question 2\n",
        "You want to print out a list of all of the facilities and their cost to members. How would you retrieve a list of only facility names and costs?\n"
      ],
      "metadata": {}
    },
    {
      "cell_type": "code",
      "source": [
        "q2_qry = \"\"\"\n",
        "    select name, membercost\n",
        "    from cd.facilities;\n",
        "\"\"\"\n",
        "q2_df = pd.read_sql(q2_qry, conn)\n",
        "q2_df"
      ],
      "outputs": [
        {
          "output_type": "execute_result",
          "execution_count": 58,
          "data": {
            "text/plain": [
              "              name  membercost\n",
              "0   Tennis Court 1         5.0\n",
              "1   Tennis Court 2         5.0\n",
              "2  Badminton Court         0.0\n",
              "3     Table Tennis         0.0\n",
              "4   Massage Room 1        35.0\n",
              "5   Massage Room 2        35.0\n",
              "6     Squash Court         3.5\n",
              "7    Snooker Table         0.0\n",
              "8       Pool Table         0.0"
            ],
            "text/html": [
              "<div>\n",
              "<table border=\"1\" class=\"dataframe\">\n",
              "  <thead>\n",
              "    <tr style=\"text-align: right;\">\n",
              "      <th></th>\n",
              "      <th>name</th>\n",
              "      <th>membercost</th>\n",
              "    </tr>\n",
              "  </thead>\n",
              "  <tbody>\n",
              "    <tr>\n",
              "      <th>0</th>\n",
              "      <td>Tennis Court 1</td>\n",
              "      <td>5.0</td>\n",
              "    </tr>\n",
              "    <tr>\n",
              "      <th>1</th>\n",
              "      <td>Tennis Court 2</td>\n",
              "      <td>5.0</td>\n",
              "    </tr>\n",
              "    <tr>\n",
              "      <th>2</th>\n",
              "      <td>Badminton Court</td>\n",
              "      <td>0.0</td>\n",
              "    </tr>\n",
              "    <tr>\n",
              "      <th>3</th>\n",
              "      <td>Table Tennis</td>\n",
              "      <td>0.0</td>\n",
              "    </tr>\n",
              "    <tr>\n",
              "      <th>4</th>\n",
              "      <td>Massage Room 1</td>\n",
              "      <td>35.0</td>\n",
              "    </tr>\n",
              "    <tr>\n",
              "      <th>5</th>\n",
              "      <td>Massage Room 2</td>\n",
              "      <td>35.0</td>\n",
              "    </tr>\n",
              "    <tr>\n",
              "      <th>6</th>\n",
              "      <td>Squash Court</td>\n",
              "      <td>3.5</td>\n",
              "    </tr>\n",
              "    <tr>\n",
              "      <th>7</th>\n",
              "      <td>Snooker Table</td>\n",
              "      <td>0.0</td>\n",
              "    </tr>\n",
              "    <tr>\n",
              "      <th>8</th>\n",
              "      <td>Pool Table</td>\n",
              "      <td>0.0</td>\n",
              "    </tr>\n",
              "  </tbody>\n",
              "</table>\n",
              "</div>"
            ]
          },
          "metadata": {}
        }
      ],
      "execution_count": 58,
      "metadata": {
        "collapsed": false,
        "outputHidden": false,
        "inputHidden": false
      }
    },
    {
      "cell_type": "markdown",
      "source": [
        "## Question 3\n",
        "How can you produce a list of facilities that charge a fee to members?\n"
      ],
      "metadata": {}
    },
    {
      "cell_type": "code",
      "source": [
        "q3_qry = \"\"\"\n",
        "    select name\n",
        "    from cd.facilities\n",
        "    where membercost > 0\n",
        "\"\"\"\n",
        "q3_df = pd.read_sql(q3_qry, conn)\n",
        "q3_df"
      ],
      "outputs": [
        {
          "output_type": "execute_result",
          "execution_count": 59,
          "data": {
            "text/plain": [
              "             name\n",
              "0  Tennis Court 1\n",
              "1  Tennis Court 2\n",
              "2  Massage Room 1\n",
              "3  Massage Room 2\n",
              "4    Squash Court"
            ],
            "text/html": [
              "<div>\n",
              "<table border=\"1\" class=\"dataframe\">\n",
              "  <thead>\n",
              "    <tr style=\"text-align: right;\">\n",
              "      <th></th>\n",
              "      <th>name</th>\n",
              "    </tr>\n",
              "  </thead>\n",
              "  <tbody>\n",
              "    <tr>\n",
              "      <th>0</th>\n",
              "      <td>Tennis Court 1</td>\n",
              "    </tr>\n",
              "    <tr>\n",
              "      <th>1</th>\n",
              "      <td>Tennis Court 2</td>\n",
              "    </tr>\n",
              "    <tr>\n",
              "      <th>2</th>\n",
              "      <td>Massage Room 1</td>\n",
              "    </tr>\n",
              "    <tr>\n",
              "      <th>3</th>\n",
              "      <td>Massage Room 2</td>\n",
              "    </tr>\n",
              "    <tr>\n",
              "      <th>4</th>\n",
              "      <td>Squash Court</td>\n",
              "    </tr>\n",
              "  </tbody>\n",
              "</table>\n",
              "</div>"
            ]
          },
          "metadata": {}
        }
      ],
      "execution_count": 59,
      "metadata": {
        "collapsed": false,
        "outputHidden": false,
        "inputHidden": false
      }
    },
    {
      "cell_type": "markdown",
      "source": [
        "## Question 4\n",
        "How can you produce a list of facilities that charge a fee to members, and that fee is less than 1/50th of the monthly maintenance cost? Return the facid, facility name, member cost, and monthly maintenance of the facilities in question.\n"
      ],
      "metadata": {}
    },
    {
      "cell_type": "code",
      "source": [
        "q4_qry = \"\"\"\n",
        "    select facid, name, membercost, monthlymaintenance\n",
        "    from cd.facilities\n",
        "    where membercost > 0\n",
        "    and (membercost < (monthlymaintenance / 50.0));\n",
        "\"\"\"\n",
        "q4_df = pd.read_sql(q4_qry, conn)\n",
        "q4_df"
      ],
      "outputs": [
        {
          "output_type": "execute_result",
          "execution_count": 60,
          "data": {
            "text/plain": [
              "   facid            name  membercost  monthlymaintenance\n",
              "0      4  Massage Room 1        35.0              3000.0\n",
              "1      5  Massage Room 2        35.0              3000.0"
            ],
            "text/html": [
              "<div>\n",
              "<table border=\"1\" class=\"dataframe\">\n",
              "  <thead>\n",
              "    <tr style=\"text-align: right;\">\n",
              "      <th></th>\n",
              "      <th>facid</th>\n",
              "      <th>name</th>\n",
              "      <th>membercost</th>\n",
              "      <th>monthlymaintenance</th>\n",
              "    </tr>\n",
              "  </thead>\n",
              "  <tbody>\n",
              "    <tr>\n",
              "      <th>0</th>\n",
              "      <td>4</td>\n",
              "      <td>Massage Room 1</td>\n",
              "      <td>35.0</td>\n",
              "      <td>3000.0</td>\n",
              "    </tr>\n",
              "    <tr>\n",
              "      <th>1</th>\n",
              "      <td>5</td>\n",
              "      <td>Massage Room 2</td>\n",
              "      <td>35.0</td>\n",
              "      <td>3000.0</td>\n",
              "    </tr>\n",
              "  </tbody>\n",
              "</table>\n",
              "</div>"
            ]
          },
          "metadata": {}
        }
      ],
      "execution_count": 60,
      "metadata": {
        "collapsed": false,
        "outputHidden": false,
        "inputHidden": false
      }
    },
    {
      "cell_type": "markdown",
      "source": [
        "## Question 5\n",
        "How can you produce a list of all facilities with the word 'Tennis' in their name?\n"
      ],
      "metadata": {}
    },
    {
      "cell_type": "code",
      "source": [
        "q5_qry = \"\"\"\n",
        "    select name\n",
        "    from cd.facilities\n",
        "    where name like '%Tennis%';\n",
        "\"\"\"\n",
        "q5_df = pd.read_sql(q5_qry, conn)\n",
        "q5_df"
      ],
      "outputs": [
        {
          "output_type": "execute_result",
          "execution_count": 61,
          "data": {
            "text/plain": [
              "             name\n",
              "0  Tennis Court 1\n",
              "1  Tennis Court 2\n",
              "2    Table Tennis"
            ],
            "text/html": [
              "<div>\n",
              "<table border=\"1\" class=\"dataframe\">\n",
              "  <thead>\n",
              "    <tr style=\"text-align: right;\">\n",
              "      <th></th>\n",
              "      <th>name</th>\n",
              "    </tr>\n",
              "  </thead>\n",
              "  <tbody>\n",
              "    <tr>\n",
              "      <th>0</th>\n",
              "      <td>Tennis Court 1</td>\n",
              "    </tr>\n",
              "    <tr>\n",
              "      <th>1</th>\n",
              "      <td>Tennis Court 2</td>\n",
              "    </tr>\n",
              "    <tr>\n",
              "      <th>2</th>\n",
              "      <td>Table Tennis</td>\n",
              "    </tr>\n",
              "  </tbody>\n",
              "</table>\n",
              "</div>"
            ]
          },
          "metadata": {}
        }
      ],
      "execution_count": 61,
      "metadata": {
        "collapsed": false,
        "outputHidden": false,
        "inputHidden": false
      }
    },
    {
      "cell_type": "markdown",
      "source": [
        "## Question 6\n",
        "How can you retrieve the details of facilities with ID 1 and 5? Try to do it without using the OR operator.\n"
      ],
      "metadata": {}
    },
    {
      "cell_type": "code",
      "source": [
        "q6_qry = \"\"\"\n",
        "    select *\n",
        "    from cd.facilities\n",
        "    where facid in (1, 5);\n",
        "\"\"\"\n",
        "q6_df = pd.read_sql(q6_qry, conn)\n",
        "q6_df"
      ],
      "outputs": [
        {
          "output_type": "execute_result",
          "execution_count": 62,
          "data": {
            "text/plain": [
              "   facid            name  membercost  guestcost  initialoutlay  \\\n",
              "0      1  Tennis Court 2         5.0       25.0         8000.0   \n",
              "1      5  Massage Room 2        35.0       80.0         4000.0   \n",
              "\n",
              "   monthlymaintenance  \n",
              "0               200.0  \n",
              "1              3000.0  "
            ],
            "text/html": [
              "<div>\n",
              "<table border=\"1\" class=\"dataframe\">\n",
              "  <thead>\n",
              "    <tr style=\"text-align: right;\">\n",
              "      <th></th>\n",
              "      <th>facid</th>\n",
              "      <th>name</th>\n",
              "      <th>membercost</th>\n",
              "      <th>guestcost</th>\n",
              "      <th>initialoutlay</th>\n",
              "      <th>monthlymaintenance</th>\n",
              "    </tr>\n",
              "  </thead>\n",
              "  <tbody>\n",
              "    <tr>\n",
              "      <th>0</th>\n",
              "      <td>1</td>\n",
              "      <td>Tennis Court 2</td>\n",
              "      <td>5.0</td>\n",
              "      <td>25.0</td>\n",
              "      <td>8000.0</td>\n",
              "      <td>200.0</td>\n",
              "    </tr>\n",
              "    <tr>\n",
              "      <th>1</th>\n",
              "      <td>5</td>\n",
              "      <td>Massage Room 2</td>\n",
              "      <td>35.0</td>\n",
              "      <td>80.0</td>\n",
              "      <td>4000.0</td>\n",
              "      <td>3000.0</td>\n",
              "    </tr>\n",
              "  </tbody>\n",
              "</table>\n",
              "</div>"
            ]
          },
          "metadata": {}
        }
      ],
      "execution_count": 62,
      "metadata": {
        "collapsed": false,
        "outputHidden": false,
        "inputHidden": false
      }
    },
    {
      "cell_type": "markdown",
      "source": [
        "## Question 7\n",
        "How can you produce a list of members who joined after the start of September 2012? Return the memid, surname, firstname, and joindate of the members in question.\n"
      ],
      "metadata": {}
    },
    {
      "cell_type": "code",
      "source": [
        "q7_qry = \"\"\"\n",
        "    select memid, surname, firstname, joindate\n",
        "    from cd.members\n",
        "    where joindate >= '2012-09-01';\n",
        "\"\"\"\n",
        "q7_df = pd.read_sql(q7_qry, conn)\n",
        "q7_df"
      ],
      "outputs": [
        {
          "output_type": "execute_result",
          "execution_count": 63,
          "data": {
            "text/plain": [
              "   memid            surname  firstname            joindate\n",
              "0     24             Sarwin  Ramnaresh 2012-09-01 08:44:42\n",
              "1     26              Jones    Douglas 2012-09-02 18:43:05\n",
              "2     27             Rumney  Henrietta 2012-09-05 08:42:35\n",
              "3     28            Farrell      David 2012-09-15 08:22:05\n",
              "4     29  Worthington-Smyth      Henry 2012-09-17 12:27:15\n",
              "5     30            Purview  Millicent 2012-09-18 19:04:01\n",
              "6     33         Tupperware   Hyacinth 2012-09-18 19:32:05\n",
              "7     35               Hunt       John 2012-09-19 11:32:45\n",
              "8     36            Crumpet      Erica 2012-09-22 08:36:38\n",
              "9     37              Smith     Darren 2012-09-26 18:08:45"
            ],
            "text/html": [
              "<div>\n",
              "<table border=\"1\" class=\"dataframe\">\n",
              "  <thead>\n",
              "    <tr style=\"text-align: right;\">\n",
              "      <th></th>\n",
              "      <th>memid</th>\n",
              "      <th>surname</th>\n",
              "      <th>firstname</th>\n",
              "      <th>joindate</th>\n",
              "    </tr>\n",
              "  </thead>\n",
              "  <tbody>\n",
              "    <tr>\n",
              "      <th>0</th>\n",
              "      <td>24</td>\n",
              "      <td>Sarwin</td>\n",
              "      <td>Ramnaresh</td>\n",
              "      <td>2012-09-01 08:44:42</td>\n",
              "    </tr>\n",
              "    <tr>\n",
              "      <th>1</th>\n",
              "      <td>26</td>\n",
              "      <td>Jones</td>\n",
              "      <td>Douglas</td>\n",
              "      <td>2012-09-02 18:43:05</td>\n",
              "    </tr>\n",
              "    <tr>\n",
              "      <th>2</th>\n",
              "      <td>27</td>\n",
              "      <td>Rumney</td>\n",
              "      <td>Henrietta</td>\n",
              "      <td>2012-09-05 08:42:35</td>\n",
              "    </tr>\n",
              "    <tr>\n",
              "      <th>3</th>\n",
              "      <td>28</td>\n",
              "      <td>Farrell</td>\n",
              "      <td>David</td>\n",
              "      <td>2012-09-15 08:22:05</td>\n",
              "    </tr>\n",
              "    <tr>\n",
              "      <th>4</th>\n",
              "      <td>29</td>\n",
              "      <td>Worthington-Smyth</td>\n",
              "      <td>Henry</td>\n",
              "      <td>2012-09-17 12:27:15</td>\n",
              "    </tr>\n",
              "    <tr>\n",
              "      <th>5</th>\n",
              "      <td>30</td>\n",
              "      <td>Purview</td>\n",
              "      <td>Millicent</td>\n",
              "      <td>2012-09-18 19:04:01</td>\n",
              "    </tr>\n",
              "    <tr>\n",
              "      <th>6</th>\n",
              "      <td>33</td>\n",
              "      <td>Tupperware</td>\n",
              "      <td>Hyacinth</td>\n",
              "      <td>2012-09-18 19:32:05</td>\n",
              "    </tr>\n",
              "    <tr>\n",
              "      <th>7</th>\n",
              "      <td>35</td>\n",
              "      <td>Hunt</td>\n",
              "      <td>John</td>\n",
              "      <td>2012-09-19 11:32:45</td>\n",
              "    </tr>\n",
              "    <tr>\n",
              "      <th>8</th>\n",
              "      <td>36</td>\n",
              "      <td>Crumpet</td>\n",
              "      <td>Erica</td>\n",
              "      <td>2012-09-22 08:36:38</td>\n",
              "    </tr>\n",
              "    <tr>\n",
              "      <th>9</th>\n",
              "      <td>37</td>\n",
              "      <td>Smith</td>\n",
              "      <td>Darren</td>\n",
              "      <td>2012-09-26 18:08:45</td>\n",
              "    </tr>\n",
              "  </tbody>\n",
              "</table>\n",
              "</div>"
            ]
          },
          "metadata": {}
        }
      ],
      "execution_count": 63,
      "metadata": {
        "collapsed": false,
        "outputHidden": false,
        "inputHidden": false
      }
    },
    {
      "cell_type": "markdown",
      "source": [
        "## Question 8\n",
        "How can you produce an ordered list of the first 10 surnames in the members table? The list must not contain duplicates.\n"
      ],
      "metadata": {}
    },
    {
      "cell_type": "code",
      "source": [
        "q8_qry = \"\"\"\n",
        "    select distinct(surname)\n",
        "    from cd.members\n",
        "    order by surname\n",
        "    limit 10;\n",
        "\"\"\"\n",
        "q7_df = pd.read_sql(q8_qry, conn)\n",
        "q7_df"
      ],
      "outputs": [
        {
          "output_type": "execute_result",
          "execution_count": 64,
          "data": {
            "text/plain": [
              "   surname\n",
              "0    Bader\n",
              "1    Baker\n",
              "2   Boothe\n",
              "3  Butters\n",
              "4   Coplin\n",
              "5  Crumpet\n",
              "6     Dare\n",
              "7  Farrell\n",
              "8  Genting\n",
              "9    GUEST"
            ],
            "text/html": [
              "<div>\n",
              "<table border=\"1\" class=\"dataframe\">\n",
              "  <thead>\n",
              "    <tr style=\"text-align: right;\">\n",
              "      <th></th>\n",
              "      <th>surname</th>\n",
              "    </tr>\n",
              "  </thead>\n",
              "  <tbody>\n",
              "    <tr>\n",
              "      <th>0</th>\n",
              "      <td>Bader</td>\n",
              "    </tr>\n",
              "    <tr>\n",
              "      <th>1</th>\n",
              "      <td>Baker</td>\n",
              "    </tr>\n",
              "    <tr>\n",
              "      <th>2</th>\n",
              "      <td>Boothe</td>\n",
              "    </tr>\n",
              "    <tr>\n",
              "      <th>3</th>\n",
              "      <td>Butters</td>\n",
              "    </tr>\n",
              "    <tr>\n",
              "      <th>4</th>\n",
              "      <td>Coplin</td>\n",
              "    </tr>\n",
              "    <tr>\n",
              "      <th>5</th>\n",
              "      <td>Crumpet</td>\n",
              "    </tr>\n",
              "    <tr>\n",
              "      <th>6</th>\n",
              "      <td>Dare</td>\n",
              "    </tr>\n",
              "    <tr>\n",
              "      <th>7</th>\n",
              "      <td>Farrell</td>\n",
              "    </tr>\n",
              "    <tr>\n",
              "      <th>8</th>\n",
              "      <td>Genting</td>\n",
              "    </tr>\n",
              "    <tr>\n",
              "      <th>9</th>\n",
              "      <td>GUEST</td>\n",
              "    </tr>\n",
              "  </tbody>\n",
              "</table>\n",
              "</div>"
            ]
          },
          "metadata": {}
        }
      ],
      "execution_count": 64,
      "metadata": {
        "collapsed": false,
        "outputHidden": false,
        "inputHidden": false
      }
    },
    {
      "cell_type": "markdown",
      "source": [
        "## Question 9\n",
        "You'd like to get the signup date of your last member. How can you retrieve this information?\n"
      ],
      "metadata": {}
    },
    {
      "cell_type": "code",
      "source": [
        "q9_qry = \"\"\"\n",
        "    select max(joindate) as latest_joindate\n",
        "    from cd.members;\n",
        "\"\"\"\n",
        "q9_df = pd.read_sql(q9_qry, conn)\n",
        "q9_df"
      ],
      "outputs": [
        {
          "output_type": "execute_result",
          "execution_count": 65,
          "data": {
            "text/plain": [
              "      latest_joindate\n",
              "0 2012-09-26 18:08:45"
            ],
            "text/html": [
              "<div>\n",
              "<table border=\"1\" class=\"dataframe\">\n",
              "  <thead>\n",
              "    <tr style=\"text-align: right;\">\n",
              "      <th></th>\n",
              "      <th>latest_joindate</th>\n",
              "    </tr>\n",
              "  </thead>\n",
              "  <tbody>\n",
              "    <tr>\n",
              "      <th>0</th>\n",
              "      <td>2012-09-26 18:08:45</td>\n",
              "    </tr>\n",
              "  </tbody>\n",
              "</table>\n",
              "</div>"
            ]
          },
          "metadata": {}
        }
      ],
      "execution_count": 65,
      "metadata": {
        "collapsed": false,
        "outputHidden": false,
        "inputHidden": false
      }
    },
    {
      "cell_type": "markdown",
      "source": [
        "## Question 10\n",
        "Produce a count of the number of facilities that have a cost to guests of 10 or more.\n"
      ],
      "metadata": {}
    },
    {
      "cell_type": "code",
      "source": [
        "q10_qry = \"\"\"\n",
        "    select count(*) as num_facs_cost_gt10\n",
        "    from cd.facilities\n",
        "    where guestcost >= 10;\n",
        "\"\"\"\n",
        "q10_df = pd.read_sql(q10_qry, conn)\n",
        "q10_df"
      ],
      "outputs": [
        {
          "output_type": "execute_result",
          "execution_count": 66,
          "data": {
            "text/plain": [
              "   num_facs_cost_gt10\n",
              "0                   6"
            ],
            "text/html": [
              "<div>\n",
              "<table border=\"1\" class=\"dataframe\">\n",
              "  <thead>\n",
              "    <tr style=\"text-align: right;\">\n",
              "      <th></th>\n",
              "      <th>num_facs_cost_gt10</th>\n",
              "    </tr>\n",
              "  </thead>\n",
              "  <tbody>\n",
              "    <tr>\n",
              "      <th>0</th>\n",
              "      <td>6</td>\n",
              "    </tr>\n",
              "  </tbody>\n",
              "</table>\n",
              "</div>"
            ]
          },
          "metadata": {}
        }
      ],
      "execution_count": 66,
      "metadata": {
        "collapsed": false,
        "outputHidden": false,
        "inputHidden": false
      }
    },
    {
      "cell_type": "markdown",
      "source": [
        "## Question 12\n",
        "### no question 11, skipped by instructor\n",
        "Produce a list of the total number of slots booked per facility in the month of September 2012. Produce an output table consisting of facility id and slots, sorted by the number of slots.\n"
      ],
      "metadata": {}
    },
    {
      "cell_type": "code",
      "source": [
        "q12_qry = \"\"\"\n",
        "    select facid, sum(slots) as num_slots\n",
        "    from cd.bookings\n",
        "    where starttime between '2012-09-01' and '2012-10-01'\n",
        "    group by facid\n",
        "    order by num_slots;\n",
        "\"\"\"\n",
        "q12_df = pd.read_sql(q12_qry, conn)\n",
        "q12_df"
      ],
      "outputs": [
        {
          "output_type": "execute_result",
          "execution_count": 67,
          "data": {
            "text/plain": [
              "   facid  num_slots\n",
              "0      5        122\n",
              "1      3        422\n",
              "2      7        426\n",
              "3      8        471\n",
              "4      6        540\n",
              "5      2        570\n",
              "6      1        588\n",
              "7      0        591\n",
              "8      4        648"
            ],
            "text/html": [
              "<div>\n",
              "<table border=\"1\" class=\"dataframe\">\n",
              "  <thead>\n",
              "    <tr style=\"text-align: right;\">\n",
              "      <th></th>\n",
              "      <th>facid</th>\n",
              "      <th>num_slots</th>\n",
              "    </tr>\n",
              "  </thead>\n",
              "  <tbody>\n",
              "    <tr>\n",
              "      <th>0</th>\n",
              "      <td>5</td>\n",
              "      <td>122</td>\n",
              "    </tr>\n",
              "    <tr>\n",
              "      <th>1</th>\n",
              "      <td>3</td>\n",
              "      <td>422</td>\n",
              "    </tr>\n",
              "    <tr>\n",
              "      <th>2</th>\n",
              "      <td>7</td>\n",
              "      <td>426</td>\n",
              "    </tr>\n",
              "    <tr>\n",
              "      <th>3</th>\n",
              "      <td>8</td>\n",
              "      <td>471</td>\n",
              "    </tr>\n",
              "    <tr>\n",
              "      <th>4</th>\n",
              "      <td>6</td>\n",
              "      <td>540</td>\n",
              "    </tr>\n",
              "    <tr>\n",
              "      <th>5</th>\n",
              "      <td>2</td>\n",
              "      <td>570</td>\n",
              "    </tr>\n",
              "    <tr>\n",
              "      <th>6</th>\n",
              "      <td>1</td>\n",
              "      <td>588</td>\n",
              "    </tr>\n",
              "    <tr>\n",
              "      <th>7</th>\n",
              "      <td>0</td>\n",
              "      <td>591</td>\n",
              "    </tr>\n",
              "    <tr>\n",
              "      <th>8</th>\n",
              "      <td>4</td>\n",
              "      <td>648</td>\n",
              "    </tr>\n",
              "  </tbody>\n",
              "</table>\n",
              "</div>"
            ]
          },
          "metadata": {}
        }
      ],
      "execution_count": 67,
      "metadata": {
        "collapsed": false,
        "outputHidden": false,
        "inputHidden": false
      }
    },
    {
      "cell_type": "markdown",
      "source": [
        "## Question 13\n",
        "Produce a list of facilities with more than 1000 slots booked. Produce an output table consisting of facility id and total slots, sorted by facility id.\n"
      ],
      "metadata": {}
    },
    {
      "cell_type": "code",
      "source": [
        "q13_qry = \"\"\"\n",
        "    select facid, sum(slots) as num_slots\n",
        "    from cd.bookings\n",
        "    group by facid\n",
        "    having sum(slots) > 1000\n",
        "    order by facid;\n",
        "\"\"\"\n",
        "q13_df = pd.read_sql(q13_qry, conn)\n",
        "q13_df"
      ],
      "outputs": [
        {
          "output_type": "execute_result",
          "execution_count": 68,
          "data": {
            "text/plain": [
              "   facid  num_slots\n",
              "0      0       1320\n",
              "1      1       1278\n",
              "2      2       1209\n",
              "3      4       1404\n",
              "4      6       1104"
            ],
            "text/html": [
              "<div>\n",
              "<table border=\"1\" class=\"dataframe\">\n",
              "  <thead>\n",
              "    <tr style=\"text-align: right;\">\n",
              "      <th></th>\n",
              "      <th>facid</th>\n",
              "      <th>num_slots</th>\n",
              "    </tr>\n",
              "  </thead>\n",
              "  <tbody>\n",
              "    <tr>\n",
              "      <th>0</th>\n",
              "      <td>0</td>\n",
              "      <td>1320</td>\n",
              "    </tr>\n",
              "    <tr>\n",
              "      <th>1</th>\n",
              "      <td>1</td>\n",
              "      <td>1278</td>\n",
              "    </tr>\n",
              "    <tr>\n",
              "      <th>2</th>\n",
              "      <td>2</td>\n",
              "      <td>1209</td>\n",
              "    </tr>\n",
              "    <tr>\n",
              "      <th>3</th>\n",
              "      <td>4</td>\n",
              "      <td>1404</td>\n",
              "    </tr>\n",
              "    <tr>\n",
              "      <th>4</th>\n",
              "      <td>6</td>\n",
              "      <td>1104</td>\n",
              "    </tr>\n",
              "  </tbody>\n",
              "</table>\n",
              "</div>"
            ]
          },
          "metadata": {}
        }
      ],
      "execution_count": 68,
      "metadata": {
        "collapsed": false,
        "outputHidden": false,
        "inputHidden": false
      }
    },
    {
      "cell_type": "markdown",
      "source": [
        "## Question 14\n",
        "How can you produce a list of the start times for bookings for tennis courts, for the date '2012-09-21'? Return a list of start time and facility name pairings, ordered by the time.\n"
      ],
      "metadata": {}
    },
    {
      "cell_type": "code",
      "source": [
        "q14_qry = \"\"\"\n",
        "    select bkgs.starttime, facs.name\n",
        "    from cd.bookings as bkgs\n",
        "    join cd.facilities as facs\n",
        "    on bkgs.facid = facs.facid\n",
        "    where bkgs.facid in (0, 1)\n",
        "    and date_trunc('day', bkgs.starttime) = '2012-09-21'\n",
        "    order by bkgs.starttime;\n",
        "\"\"\"\n",
        "q14_df = pd.read_sql(q14_qry, conn)\n",
        "q14_df"
      ],
      "outputs": [
        {
          "output_type": "execute_result",
          "execution_count": 69,
          "data": {
            "text/plain": [
              "             starttime            name\n",
              "0  2012-09-21 08:00:00  Tennis Court 1\n",
              "1  2012-09-21 08:00:00  Tennis Court 2\n",
              "2  2012-09-21 09:30:00  Tennis Court 1\n",
              "3  2012-09-21 10:00:00  Tennis Court 2\n",
              "4  2012-09-21 11:30:00  Tennis Court 2\n",
              "5  2012-09-21 12:00:00  Tennis Court 1\n",
              "6  2012-09-21 13:30:00  Tennis Court 1\n",
              "7  2012-09-21 14:00:00  Tennis Court 2\n",
              "8  2012-09-21 15:30:00  Tennis Court 1\n",
              "9  2012-09-21 16:00:00  Tennis Court 2\n",
              "10 2012-09-21 17:00:00  Tennis Court 1\n",
              "11 2012-09-21 18:00:00  Tennis Court 2"
            ],
            "text/html": [
              "<div>\n",
              "<table border=\"1\" class=\"dataframe\">\n",
              "  <thead>\n",
              "    <tr style=\"text-align: right;\">\n",
              "      <th></th>\n",
              "      <th>starttime</th>\n",
              "      <th>name</th>\n",
              "    </tr>\n",
              "  </thead>\n",
              "  <tbody>\n",
              "    <tr>\n",
              "      <th>0</th>\n",
              "      <td>2012-09-21 08:00:00</td>\n",
              "      <td>Tennis Court 1</td>\n",
              "    </tr>\n",
              "    <tr>\n",
              "      <th>1</th>\n",
              "      <td>2012-09-21 08:00:00</td>\n",
              "      <td>Tennis Court 2</td>\n",
              "    </tr>\n",
              "    <tr>\n",
              "      <th>2</th>\n",
              "      <td>2012-09-21 09:30:00</td>\n",
              "      <td>Tennis Court 1</td>\n",
              "    </tr>\n",
              "    <tr>\n",
              "      <th>3</th>\n",
              "      <td>2012-09-21 10:00:00</td>\n",
              "      <td>Tennis Court 2</td>\n",
              "    </tr>\n",
              "    <tr>\n",
              "      <th>4</th>\n",
              "      <td>2012-09-21 11:30:00</td>\n",
              "      <td>Tennis Court 2</td>\n",
              "    </tr>\n",
              "    <tr>\n",
              "      <th>5</th>\n",
              "      <td>2012-09-21 12:00:00</td>\n",
              "      <td>Tennis Court 1</td>\n",
              "    </tr>\n",
              "    <tr>\n",
              "      <th>6</th>\n",
              "      <td>2012-09-21 13:30:00</td>\n",
              "      <td>Tennis Court 1</td>\n",
              "    </tr>\n",
              "    <tr>\n",
              "      <th>7</th>\n",
              "      <td>2012-09-21 14:00:00</td>\n",
              "      <td>Tennis Court 2</td>\n",
              "    </tr>\n",
              "    <tr>\n",
              "      <th>8</th>\n",
              "      <td>2012-09-21 15:30:00</td>\n",
              "      <td>Tennis Court 1</td>\n",
              "    </tr>\n",
              "    <tr>\n",
              "      <th>9</th>\n",
              "      <td>2012-09-21 16:00:00</td>\n",
              "      <td>Tennis Court 2</td>\n",
              "    </tr>\n",
              "    <tr>\n",
              "      <th>10</th>\n",
              "      <td>2012-09-21 17:00:00</td>\n",
              "      <td>Tennis Court 1</td>\n",
              "    </tr>\n",
              "    <tr>\n",
              "      <th>11</th>\n",
              "      <td>2012-09-21 18:00:00</td>\n",
              "      <td>Tennis Court 2</td>\n",
              "    </tr>\n",
              "  </tbody>\n",
              "</table>\n",
              "</div>"
            ]
          },
          "metadata": {}
        }
      ],
      "execution_count": 69,
      "metadata": {
        "collapsed": false,
        "outputHidden": false,
        "inputHidden": false
      }
    },
    {
      "cell_type": "markdown",
      "source": [
        "## Question 15\n",
        "How can you produce a list of the start times for bookings by members named 'David Farrell'?\n"
      ],
      "metadata": {}
    },
    {
      "cell_type": "code",
      "source": [
        "q15_qry = \"\"\"\n",
        "    select bkgs.starttime, concat(firstname, ' ', surname) as fullname\n",
        "    from cd.bookings as bkgs\n",
        "    join cd.members as mems\n",
        "    on bkgs.memid = mems.memid\n",
        "    where concat(firstname, ' ', surname) = 'David Farrell';\n",
        "\"\"\"\n",
        "q15_df = pd.read_sql(q15_qry, conn)\n",
        "q15_df"
      ],
      "outputs": [
        {
          "output_type": "execute_result",
          "execution_count": 70,
          "data": {
            "text/plain": [
              "             starttime       fullname\n",
              "0  2012-09-18 09:00:00  David Farrell\n",
              "1  2012-09-18 17:30:00  David Farrell\n",
              "2  2012-09-18 13:30:00  David Farrell\n",
              "3  2012-09-18 20:00:00  David Farrell\n",
              "4  2012-09-19 09:30:00  David Farrell\n",
              "5  2012-09-19 15:00:00  David Farrell\n",
              "6  2012-09-19 12:00:00  David Farrell\n",
              "7  2012-09-20 15:30:00  David Farrell\n",
              "8  2012-09-20 11:30:00  David Farrell\n",
              "9  2012-09-20 14:00:00  David Farrell\n",
              "10 2012-09-21 10:30:00  David Farrell\n",
              "11 2012-09-21 14:00:00  David Farrell\n",
              "12 2012-09-22 08:30:00  David Farrell\n",
              "13 2012-09-22 17:00:00  David Farrell\n",
              "14 2012-09-23 08:30:00  David Farrell\n",
              "15 2012-09-23 17:30:00  David Farrell\n",
              "16 2012-09-23 19:00:00  David Farrell\n",
              "17 2012-09-24 08:00:00  David Farrell\n",
              "18 2012-09-24 16:30:00  David Farrell\n",
              "19 2012-09-24 12:30:00  David Farrell\n",
              "20 2012-09-25 15:30:00  David Farrell\n",
              "21 2012-09-25 17:00:00  David Farrell\n",
              "22 2012-09-26 13:00:00  David Farrell\n",
              "23 2012-09-26 17:00:00  David Farrell\n",
              "24 2012-09-27 08:00:00  David Farrell\n",
              "25 2012-09-28 11:30:00  David Farrell\n",
              "26 2012-09-28 09:30:00  David Farrell\n",
              "27 2012-09-28 13:00:00  David Farrell\n",
              "28 2012-09-29 16:00:00  David Farrell\n",
              "29 2012-09-29 10:30:00  David Farrell\n",
              "30 2012-09-29 13:30:00  David Farrell\n",
              "31 2012-09-29 14:30:00  David Farrell\n",
              "32 2012-09-29 17:30:00  David Farrell\n",
              "33 2012-09-30 14:30:00  David Farrell"
            ],
            "text/html": [
              "<div>\n",
              "<table border=\"1\" class=\"dataframe\">\n",
              "  <thead>\n",
              "    <tr style=\"text-align: right;\">\n",
              "      <th></th>\n",
              "      <th>starttime</th>\n",
              "      <th>fullname</th>\n",
              "    </tr>\n",
              "  </thead>\n",
              "  <tbody>\n",
              "    <tr>\n",
              "      <th>0</th>\n",
              "      <td>2012-09-18 09:00:00</td>\n",
              "      <td>David Farrell</td>\n",
              "    </tr>\n",
              "    <tr>\n",
              "      <th>1</th>\n",
              "      <td>2012-09-18 17:30:00</td>\n",
              "      <td>David Farrell</td>\n",
              "    </tr>\n",
              "    <tr>\n",
              "      <th>2</th>\n",
              "      <td>2012-09-18 13:30:00</td>\n",
              "      <td>David Farrell</td>\n",
              "    </tr>\n",
              "    <tr>\n",
              "      <th>3</th>\n",
              "      <td>2012-09-18 20:00:00</td>\n",
              "      <td>David Farrell</td>\n",
              "    </tr>\n",
              "    <tr>\n",
              "      <th>4</th>\n",
              "      <td>2012-09-19 09:30:00</td>\n",
              "      <td>David Farrell</td>\n",
              "    </tr>\n",
              "    <tr>\n",
              "      <th>5</th>\n",
              "      <td>2012-09-19 15:00:00</td>\n",
              "      <td>David Farrell</td>\n",
              "    </tr>\n",
              "    <tr>\n",
              "      <th>6</th>\n",
              "      <td>2012-09-19 12:00:00</td>\n",
              "      <td>David Farrell</td>\n",
              "    </tr>\n",
              "    <tr>\n",
              "      <th>7</th>\n",
              "      <td>2012-09-20 15:30:00</td>\n",
              "      <td>David Farrell</td>\n",
              "    </tr>\n",
              "    <tr>\n",
              "      <th>8</th>\n",
              "      <td>2012-09-20 11:30:00</td>\n",
              "      <td>David Farrell</td>\n",
              "    </tr>\n",
              "    <tr>\n",
              "      <th>9</th>\n",
              "      <td>2012-09-20 14:00:00</td>\n",
              "      <td>David Farrell</td>\n",
              "    </tr>\n",
              "    <tr>\n",
              "      <th>10</th>\n",
              "      <td>2012-09-21 10:30:00</td>\n",
              "      <td>David Farrell</td>\n",
              "    </tr>\n",
              "    <tr>\n",
              "      <th>11</th>\n",
              "      <td>2012-09-21 14:00:00</td>\n",
              "      <td>David Farrell</td>\n",
              "    </tr>\n",
              "    <tr>\n",
              "      <th>12</th>\n",
              "      <td>2012-09-22 08:30:00</td>\n",
              "      <td>David Farrell</td>\n",
              "    </tr>\n",
              "    <tr>\n",
              "      <th>13</th>\n",
              "      <td>2012-09-22 17:00:00</td>\n",
              "      <td>David Farrell</td>\n",
              "    </tr>\n",
              "    <tr>\n",
              "      <th>14</th>\n",
              "      <td>2012-09-23 08:30:00</td>\n",
              "      <td>David Farrell</td>\n",
              "    </tr>\n",
              "    <tr>\n",
              "      <th>15</th>\n",
              "      <td>2012-09-23 17:30:00</td>\n",
              "      <td>David Farrell</td>\n",
              "    </tr>\n",
              "    <tr>\n",
              "      <th>16</th>\n",
              "      <td>2012-09-23 19:00:00</td>\n",
              "      <td>David Farrell</td>\n",
              "    </tr>\n",
              "    <tr>\n",
              "      <th>17</th>\n",
              "      <td>2012-09-24 08:00:00</td>\n",
              "      <td>David Farrell</td>\n",
              "    </tr>\n",
              "    <tr>\n",
              "      <th>18</th>\n",
              "      <td>2012-09-24 16:30:00</td>\n",
              "      <td>David Farrell</td>\n",
              "    </tr>\n",
              "    <tr>\n",
              "      <th>19</th>\n",
              "      <td>2012-09-24 12:30:00</td>\n",
              "      <td>David Farrell</td>\n",
              "    </tr>\n",
              "    <tr>\n",
              "      <th>20</th>\n",
              "      <td>2012-09-25 15:30:00</td>\n",
              "      <td>David Farrell</td>\n",
              "    </tr>\n",
              "    <tr>\n",
              "      <th>21</th>\n",
              "      <td>2012-09-25 17:00:00</td>\n",
              "      <td>David Farrell</td>\n",
              "    </tr>\n",
              "    <tr>\n",
              "      <th>22</th>\n",
              "      <td>2012-09-26 13:00:00</td>\n",
              "      <td>David Farrell</td>\n",
              "    </tr>\n",
              "    <tr>\n",
              "      <th>23</th>\n",
              "      <td>2012-09-26 17:00:00</td>\n",
              "      <td>David Farrell</td>\n",
              "    </tr>\n",
              "    <tr>\n",
              "      <th>24</th>\n",
              "      <td>2012-09-27 08:00:00</td>\n",
              "      <td>David Farrell</td>\n",
              "    </tr>\n",
              "    <tr>\n",
              "      <th>25</th>\n",
              "      <td>2012-09-28 11:30:00</td>\n",
              "      <td>David Farrell</td>\n",
              "    </tr>\n",
              "    <tr>\n",
              "      <th>26</th>\n",
              "      <td>2012-09-28 09:30:00</td>\n",
              "      <td>David Farrell</td>\n",
              "    </tr>\n",
              "    <tr>\n",
              "      <th>27</th>\n",
              "      <td>2012-09-28 13:00:00</td>\n",
              "      <td>David Farrell</td>\n",
              "    </tr>\n",
              "    <tr>\n",
              "      <th>28</th>\n",
              "      <td>2012-09-29 16:00:00</td>\n",
              "      <td>David Farrell</td>\n",
              "    </tr>\n",
              "    <tr>\n",
              "      <th>29</th>\n",
              "      <td>2012-09-29 10:30:00</td>\n",
              "      <td>David Farrell</td>\n",
              "    </tr>\n",
              "    <tr>\n",
              "      <th>30</th>\n",
              "      <td>2012-09-29 13:30:00</td>\n",
              "      <td>David Farrell</td>\n",
              "    </tr>\n",
              "    <tr>\n",
              "      <th>31</th>\n",
              "      <td>2012-09-29 14:30:00</td>\n",
              "      <td>David Farrell</td>\n",
              "    </tr>\n",
              "    <tr>\n",
              "      <th>32</th>\n",
              "      <td>2012-09-29 17:30:00</td>\n",
              "      <td>David Farrell</td>\n",
              "    </tr>\n",
              "    <tr>\n",
              "      <th>33</th>\n",
              "      <td>2012-09-30 14:30:00</td>\n",
              "      <td>David Farrell</td>\n",
              "    </tr>\n",
              "  </tbody>\n",
              "</table>\n",
              "</div>"
            ]
          },
          "metadata": {}
        }
      ],
      "execution_count": 70,
      "metadata": {
        "collapsed": false,
        "outputHidden": false,
        "inputHidden": false
      }
    },
    {
      "cell_type": "code",
      "source": [],
      "outputs": [],
      "execution_count": 71,
      "metadata": {
        "collapsed": false,
        "outputHidden": false,
        "inputHidden": false
      }
    }
  ],
  "metadata": {
    "kernelspec": {
      "name": "python2",
      "language": "python",
      "display_name": "Python 2"
    },
    "kernel_info": {
      "name": "python2"
    },
    "language_info": {
      "mimetype": "text/x-python",
      "nbconvert_exporter": "python",
      "name": "python",
      "pygments_lexer": "ipython2",
      "version": "2.7.12",
      "file_extension": ".py",
      "codemirror_mode": {
        "version": 2,
        "name": "ipython"
      }
    }
  },
  "nbformat": 4,
  "nbformat_minor": 4
}