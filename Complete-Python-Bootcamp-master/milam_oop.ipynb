{
  "cells": [
    {
      "cell_type": "markdown",
      "source": [
        "# OBJECTS"
      ],
      "metadata": {}
    },
    {
      "cell_type": "markdown",
      "source": [
        "## Sample Class"
      ],
      "metadata": {}
    },
    {
      "cell_type": "code",
      "source": [
        "class Sample(object):\n",
        "    pass"
      ],
      "outputs": [],
      "execution_count": 3,
      "metadata": {
        "collapsed": false,
        "outputHidden": false,
        "inputHidden": false
      }
    },
    {
      "cell_type": "code",
      "source": [
        "x = Sample()"
      ],
      "outputs": [],
      "execution_count": 4,
      "metadata": {}
    },
    {
      "cell_type": "code",
      "source": [
        "x"
      ],
      "outputs": [
        {
          "output_type": "execute_result",
          "execution_count": 5,
          "data": {
            "text/plain": [
              "<__main__.Sample at 0x7f4b5eb6f290>"
            ]
          },
          "metadata": {}
        }
      ],
      "execution_count": 5,
      "metadata": {}
    },
    {
      "cell_type": "markdown",
      "source": [
        "## Dog Class"
      ],
      "metadata": {}
    },
    {
      "cell_type": "code",
      "source": [
        "class Dog(object):\n",
        "    # class object attribute\n",
        "    species = 'C. lupus'\n",
        "    genus = 'Canis'\n",
        "    \n",
        "    def __init__(self, breed, name, color, voice='bark'):\n",
        "        self.breed = breed\n",
        "        self.name = name\n",
        "        self.color = color\n",
        "        self.voice = voice"
      ],
      "outputs": [],
      "execution_count": 28,
      "metadata": {}
    },
    {
      "cell_type": "code",
      "source": [
        "rover = Dog(breed='Mutt', name='Rover', color='red', voice='woof')"
      ],
      "outputs": [],
      "execution_count": 32,
      "metadata": {
        "collapsed": false,
        "outputHidden": false,
        "inputHidden": false
      }
    },
    {
      "cell_type": "code",
      "source": [
        "rover"
      ],
      "outputs": [
        {
          "output_type": "execute_result",
          "execution_count": 33,
          "data": {
            "text/plain": [
              "<__main__.Dog at 0x7f4b5c133c90>"
            ]
          },
          "metadata": {}
        }
      ],
      "execution_count": 33,
      "metadata": {
        "collapsed": false,
        "outputHidden": false,
        "inputHidden": false
      }
    },
    {
      "cell_type": "code",
      "source": [
        "print 'There is a {} dog named {}.\\nWho is a {}.'.format(rover.color, rover.name, rover.breed)\n",
        "print 'And when he barks, he says \"{}\"!'.format(rover.voice)\n",
        "print 'His genus is {}, and his species {}.'.format(rover.genus, rover.species)"
      ],
      "outputs": [
        {
          "output_type": "stream",
          "name": "stdout",
          "text": [
            "There is a red dog named Rover.\n",
            "Who is a Mutt.\n",
            "And when he barks, he says \"woof\"!\n",
            "His genus is Canis, and his species C. lupus.\n"
          ]
        }
      ],
      "execution_count": 34,
      "metadata": {
        "collapsed": false,
        "outputHidden": false,
        "inputHidden": false
      }
    },
    {
      "cell_type": "markdown",
      "source": [
        "## Circle Class"
      ],
      "metadata": {}
    },
    {
      "cell_type": "code",
      "source": [
        "class Circle(object):\n",
        "    # object attributes\n",
        "    pi = 3.14\n",
        "    \n",
        "    def __init__(self, radius=1, perimeter=0):\n",
        "        self.radius = radius\n",
        "        self.perim = perimeter\n",
        "        \n",
        "    def area(self):\n",
        "        return self.radius**2 * Circle.pi \n",
        "    \n",
        "    def set_radius(self, new_radius):\n",
        "        \"\"\"\n",
        "        sets the current radius to the value provided\n",
        "        takes either an interger or float\n",
        "        default value is 1\n",
        "        \"\"\"\n",
        "        self.radius = new_radius\n",
        "        \n",
        "    def get_radius(self):\n",
        "        return self.radius\n",
        "    \n",
        "    def perimeter(self):\n",
        "        return 2 * Circle.pi * self.radius"
      ],
      "outputs": [],
      "execution_count": 72,
      "metadata": {
        "collapsed": false,
        "outputHidden": false,
        "inputHidden": false
      }
    },
    {
      "cell_type": "code",
      "source": [
        "c = Circle(radius=33)"
      ],
      "outputs": [],
      "execution_count": 73,
      "metadata": {
        "collapsed": false,
        "outputHidden": false,
        "inputHidden": false
      }
    },
    {
      "cell_type": "code",
      "source": [
        "print 'PI = {}, radius = {}'.format(c.pi, c.radius)\n",
        "print 'area = {}, perimeter = {}'.format(c.area(), c.perimeter())"
      ],
      "outputs": [
        {
          "output_type": "stream",
          "name": "stdout",
          "text": [
            "PI = 3.14, radius = 33\n",
            "area = 3419.46, perimeter = 207.24\n"
          ]
        }
      ],
      "execution_count": 74,
      "metadata": {
        "collapsed": false,
        "outputHidden": false,
        "inputHidden": false
      }
    },
    {
      "cell_type": "code",
      "source": [
        "c.set_radius(10)\n",
        "print 'the new radius is {}'.format(c.get_radius())\n",
        "print 'new area = {}'.format(c.area())"
      ],
      "outputs": [
        {
          "output_type": "stream",
          "name": "stdout",
          "text": [
            "the new radius is 10\n",
            "new area = 314.0\n"
          ]
        }
      ],
      "execution_count": 71,
      "metadata": {
        "collapsed": false,
        "outputHidden": false,
        "inputHidden": false
      }
    },
    {
      "cell_type": "code",
      "source": [],
      "outputs": [],
      "execution_count": null,
      "metadata": {
        "collapsed": false,
        "outputHidden": false,
        "inputHidden": false
      }
    }
  ],
  "metadata": {
    "kernelspec": {
      "name": "python2",
      "language": "python",
      "display_name": "Python 2"
    },
    "kernel_info": {
      "name": "python2"
    },
    "language_info": {
      "mimetype": "text/x-python",
      "nbconvert_exporter": "python",
      "name": "python",
      "pygments_lexer": "ipython2",
      "version": "2.7.12",
      "file_extension": ".py",
      "codemirror_mode": {
        "version": 2,
        "name": "ipython"
      }
    }
  },
  "nbformat": 4,
  "nbformat_minor": 4
}