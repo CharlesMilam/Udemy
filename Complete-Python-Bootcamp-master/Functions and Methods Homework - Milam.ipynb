{
  "cells": [
    {
      "cell_type": "markdown",
      "source": [
        "# Functions and Methods Homework \n",
        "\n",
        "Complete the following questions:\n",
        "____\n",
        "**Write a function that computes the volume of a sphere given its radius.**"
      ],
      "metadata": {}
    },
    {
      "cell_type": "code",
      "source": [
        "import math\n",
        "\n",
        "def vol(rad):\n",
        "    return 4/3.0 * math.pi * rad**3\n",
        "\nprint vol(15)"
      ],
      "outputs": [
        {
          "output_type": "stream",
          "name": "stdout",
          "text": [
            "14137.1669412\n"
          ]
        }
      ],
      "execution_count": 1,
      "metadata": {
        "collapsed": true
      }
    },
    {
      "cell_type": "markdown",
      "source": [
        "___\n",
        "**Write a function that checks whether a number is in a given range (Inclusive of high and low)**"
      ],
      "metadata": {}
    },
    {
      "cell_type": "code",
      "source": [
        "def ran_check(num,low,high):\n",
        "    if num in range(low, high+1):\n",
        "        return 'Num in range.'\n",
        "    else:\n",
        "        return 'Num NOT in range.'\n",
        "\nran_check(3, 1, 3)"
      ],
      "outputs": [
        {
          "output_type": "execute_result",
          "execution_count": 11,
          "data": {
            "text/plain": [
              "'Num in range.'"
            ]
          },
          "metadata": {}
        }
      ],
      "execution_count": 11,
      "metadata": {
        "collapsed": true
      }
    },
    {
      "cell_type": "markdown",
      "source": [
        "If you only wanted to return a boolean:"
      ],
      "metadata": {}
    },
    {
      "cell_type": "code",
      "source": [
        "def ran_bool(num,low,high):\n",
        "    return num in range(low, high+1)\n",
        "\nran_bool(3, 1, 3)"
      ],
      "outputs": [
        {
          "output_type": "execute_result",
          "execution_count": 12,
          "data": {
            "text/plain": [
              "True"
            ]
          },
          "metadata": {}
        }
      ],
      "execution_count": 12,
      "metadata": {
        "collapsed": true
      }
    },
    {
      "cell_type": "code",
      "source": [
        "ran_bool(3,1,10)"
      ],
      "outputs": [
        {
          "output_type": "execute_result",
          "execution_count": 13,
          "data": {
            "text/plain": [
              "True"
            ]
          },
          "metadata": {}
        }
      ],
      "execution_count": 13,
      "metadata": {
        "collapsed": false
      }
    },
    {
      "cell_type": "markdown",
      "source": [
        "____\n",
        "**Write a Python function that accepts a string and calculate the number of upper case letters and lower case letters.**\n",
        "\n",
        "    Sample String : 'Hello Mr. Rogers, how are you this fine Tuesday?'\n",
        "    Expected Output : \n",
        "    No. of Upper case characters : 4\n",
        "    No. of Lower case Characters : 33\n",
        "\nIf you feel ambitious, explore the Collections module to solve this problem!"
      ],
      "metadata": {}
    },
    {
      "cell_type": "code",
      "source": [
        "from collections import Counter\n",
        "\n",
        "def up_low(s):\n",
        "    uppers = sum(Counter([up for up in s if up.isupper()]).values())\n",
        "    lowers = sum(Counter([low for low in s if low.islower()]).values())\n",
        "    print 'No. of Upper case characters : {}\\nNo. of Lower case characters : {}'.format(uppers, lowers)\n",
        "    \n",
        "up_low('Hello Mr. Rogers, how are you this fine Tuesday?')"
      ],
      "outputs": [
        {
          "output_type": "stream",
          "name": "stdout",
          "text": [
            "No. of Upper case characters : 4\n",
            "No. of Lower case characters : 33\n"
          ]
        }
      ],
      "execution_count": 34,
      "metadata": {
        "collapsed": true
      }
    },
    {
      "cell_type": "markdown",
      "source": [
        "____\n",
        "**Write a Python function that takes a list and returns a new list with unique elements of the first list.**\n",
        "\n",
        "    Sample List : [1,1,1,1,2,2,3,3,3,3,4,5]\n",
        "    Unique List : [1, 2, 3, 4, 5]"
      ],
      "metadata": {}
    },
    {
      "cell_type": "code",
      "source": [
        "def unique_list(l):\n",
        "    return list(set(l))"
      ],
      "outputs": [],
      "execution_count": 35,
      "metadata": {
        "collapsed": true
      }
    },
    {
      "cell_type": "code",
      "source": [
        "print unique_list([1,1,1,1,2,2,3,3,3,3,4,5])\n",
        "print unique_list([3,3,3,6,6,6,6,9,9,9,3,6,9])"
      ],
      "outputs": [
        {
          "output_type": "stream",
          "name": "stdout",
          "text": [
            "[1, 2, 3, 4, 5]\n",
            "[9, 3, 6]\n"
          ]
        }
      ],
      "execution_count": 38,
      "metadata": {
        "collapsed": false
      }
    },
    {
      "cell_type": "markdown",
      "source": [
        "____\n",
        "**Write a Python function to multiply all the numbers in a list.**\n",
        "\n",
        "    Sample List : [1, 2, 3, -4]\n",
        "    Expected Output : -24"
      ],
      "metadata": {}
    },
    {
      "cell_type": "code",
      "source": [
        "def multiply(numbers):  \n",
        "    return reduce(lambda x, y: x*y, numbers)"
      ],
      "outputs": [],
      "execution_count": 42,
      "metadata": {
        "collapsed": true
      }
    },
    {
      "cell_type": "code",
      "source": [
        "print multiply([1,2,3,-4])\n",
        "print multiply([3,3,7,1])"
      ],
      "outputs": [
        {
          "output_type": "stream",
          "name": "stdout",
          "text": [
            "-24\n",
            "63\n"
          ]
        }
      ],
      "execution_count": 44,
      "metadata": {
        "collapsed": false
      }
    },
    {
      "cell_type": "markdown",
      "source": [
        "____\n",
        "**Write a Python function that checks whether a passed string is palindrome or not.**\n",
        "\nNote: A palindrome is word, phrase, or sequence that reads the same backward as forward, e.g., madam or nurses run."
      ],
      "metadata": {}
    },
    {
      "cell_type": "code",
      "source": [
        "def palindrome(s):\n",
        "    return s == s[::-1]"
      ],
      "outputs": [],
      "execution_count": 45,
      "metadata": {
        "collapsed": true
      }
    },
    {
      "cell_type": "code",
      "source": [
        "print palindrome('helleh')\n",
        "print palindrome('able was i ere i saw elba')\n",
        "print palindrome('jack was here')"
      ],
      "outputs": [
        {
          "output_type": "stream",
          "name": "stdout",
          "text": [
            "True\n",
            "True\n",
            "False\n"
          ]
        }
      ],
      "execution_count": 49,
      "metadata": {
        "collapsed": false
      }
    },
    {
      "cell_type": "markdown",
      "source": [
        "____\n",
        "**Hard**:\n",
        "\n",
        "Write a Python function to check whether a string is pangram or not.\n",
        "\n",
        "    Note : Pangrams are words or sentences containing every letter of the alphabet at least once.\n",
        "    For example : \"The quick brown fox jumps over the lazy dog\"\n",
        "\nHint: Look at the string module"
      ],
      "metadata": {}
    },
    {
      "cell_type": "code",
      "source": [
        "import string\n",
        "\n",
        "def ispangram(str1, alphabet=string.ascii_lowercase):  \n",
        "      return all(map(lambda x: x.lower() in str1.lower(), alphabet))\n",
        "    "
      ],
      "outputs": [],
      "execution_count": 96,
      "metadata": {
        "collapsed": true
      }
    },
    {
      "cell_type": "code",
      "source": [
        "print ispangram(\"The quick brown fox jumps over the lazy dog\")\n",
        "print ispangram(\"The quick brown fox jumps over the lay dog\")\n",
        "print ispangram(\"zyxwvutsrqponmlkjihgfedcba\")\n",
        "print ispangram(\"zyxwvutsrqponmlkjihgfedcb\")"
      ],
      "outputs": [
        {
          "output_type": "stream",
          "name": "stdout",
          "text": [
            "True\n",
            "False\n",
            "True\n",
            "False\n"
          ]
        }
      ],
      "execution_count": 101,
      "metadata": {
        "collapsed": false
      }
    },
    {
      "cell_type": "code",
      "source": [
        "string.ascii_lowercase"
      ],
      "outputs": [
        {
          "output_type": "execute_result",
          "execution_count": 91,
          "data": {
            "text/plain": [
              "'abcdefghijklmnopqrstuvwxyz'"
            ]
          },
          "metadata": {}
        }
      ],
      "execution_count": 91,
      "metadata": {
        "collapsed": false
      }
    },
    {
      "cell_type": "markdown",
      "source": [
        "####**Great Job!**"
      ],
      "metadata": {
        "collapsed": true
      }
    },
    {
      "cell_type": "markdown",
      "source": [],
      "metadata": {}
    }
  ],
  "metadata": {
    "kernelspec": {
      "name": "python2",
      "language": "python",
      "display_name": "Python 2"
    },
    "language_info": {
      "mimetype": "text/x-python",
      "nbconvert_exporter": "python",
      "name": "python",
      "pygments_lexer": "ipython2",
      "version": "2.7.12",
      "file_extension": ".py",
      "codemirror_mode": {
        "version": 2,
        "name": "ipython"
      }
    },
    "kernel_info": {
      "name": "python2"
    }
  },
  "nbformat": 4,
  "nbformat_minor": 0
}